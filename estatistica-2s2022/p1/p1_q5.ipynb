{
  "nbformat": 4,
  "nbformat_minor": 0,
  "metadata": {
    "colab": {
      "provenance": [],
      "toc_visible": true
    },
    "kernelspec": {
      "name": "python3",
      "display_name": "Python 3"
    },
    "language_info": {
      "name": "python"
    }
  },
  "cells": [
    {
      "cell_type": "markdown",
      "source": [
        "# Prova 1 - Questão 5"
      ],
      "metadata": {
        "id": "OmtC5mhCzVLA"
      }
    },
    {
      "cell_type": "markdown",
      "source": [
        "Autora: Luiza Lober de Souza Piva, nUSP: 9302292"
      ],
      "metadata": {
        "id": "BRB4uwQCzXan"
      }
    },
    {
      "cell_type": "markdown",
      "source": [
        "### Configuração"
      ],
      "metadata": {
        "id": "TmyG8KsSzbHH"
      }
    },
    {
      "cell_type": "code",
      "source": [
        "#para o teste de McNemar\n",
        "!pip install statsmodels"
      ],
      "metadata": {
        "colab": {
          "base_uri": "https://localhost:8080/"
        },
        "id": "tgEMB9H0sUjg",
        "outputId": "10c81e24-8def-4e8b-b3c8-c9fb0b74fe98"
      },
      "execution_count": 19,
      "outputs": [
        {
          "output_type": "stream",
          "name": "stdout",
          "text": [
            "Defaulting to user installation because normal site-packages is not writeable\n",
            "Collecting statsmodels\n",
            "  Downloading statsmodels-0.13.2-cp310-cp310-manylinux_2_17_x86_64.manylinux2014_x86_64.whl (10.0 MB)\n",
            "\u001b[2K     \u001b[38;2;114;156;31m━━━━━━━━━━━━━━━━━━━━━━━━━━━━━━━━━━━━━━━━\u001b[0m \u001b[32m10.0/10.0 MB\u001b[0m \u001b[31m3.9 MB/s\u001b[0m eta \u001b[36m0:00:00\u001b[0m\n",
            "\u001b[?25hCollecting patsy>=0.5.2\n",
            "  Downloading patsy-0.5.2-py2.py3-none-any.whl (233 kB)\n",
            "\u001b[2K     \u001b[38;2;114;156;31m━━━━━━━━━━━━━━━━━━━━━━━━━━━━━━━━━━━━━━━\u001b[0m \u001b[32m233.7/233.7 KB\u001b[0m \u001b[31m4.7 MB/s\u001b[0m eta \u001b[36m0:00:00\u001b[0m\n",
            "\u001b[?25hRequirement already satisfied: numpy>=1.17 in ./.local/lib/python3.10/site-packages (from statsmodels) (1.22.3)\n",
            "Requirement already satisfied: pandas>=0.25 in ./.local/lib/python3.10/site-packages (from statsmodels) (1.4.2)\n",
            "Requirement already satisfied: scipy>=1.3 in ./.local/lib/python3.10/site-packages (from statsmodels) (1.8.0)\n",
            "Requirement already satisfied: packaging>=21.3 in ./.local/lib/python3.10/site-packages (from statsmodels) (21.3)\n",
            "Requirement already satisfied: pyparsing!=3.0.5,>=2.0.2 in /usr/lib/python3/dist-packages (from packaging>=21.3->statsmodels) (2.4.7)\n",
            "Requirement already satisfied: python-dateutil>=2.8.1 in ./.local/lib/python3.10/site-packages (from pandas>=0.25->statsmodels) (2.8.2)\n",
            "Requirement already satisfied: pytz>=2020.1 in /usr/lib/python3/dist-packages (from pandas>=0.25->statsmodels) (2022.1)\n",
            "Requirement already satisfied: six in ./.local/lib/python3.10/site-packages (from patsy>=0.5.2->statsmodels) (1.16.0)\n",
            "Installing collected packages: patsy, statsmodels\n",
            "Successfully installed patsy-0.5.2 statsmodels-0.13.2\n"
          ]
        }
      ]
    },
    {
      "cell_type": "code",
      "execution_count": 20,
      "metadata": {
        "id": "OMJ9w1lwuFEQ"
      },
      "outputs": [],
      "source": [
        "#Ler e manipular dataframes e valores\n",
        "import pandas as pd\n",
        "import numpy as np\n",
        "import scipy.stats as sp\n",
        "\n",
        "#Montar gráficos\n",
        "import seaborn as sns\n",
        "import matplotlib.pyplot as plt\n",
        "import matplotlib.patches as mpatches\n",
        "\n",
        "#Importar os dados\n",
        "import requests as rq\n",
        "from io import BytesIO\n",
        "\n",
        "#Teste de McNemar\n",
        "from statsmodels.stats.contingency_tables import mcnemar"
      ]
    },
    {
      "cell_type": "code",
      "source": [
        "#Cria o dataframe com as cotas dos deputados\n",
        "url = 'https://github.com/luizalober/doc-disciplinas/blob/main/estatistica-2s2022/p1/Dados_ECT.xlsx?raw=true'\n",
        "data = rq.get(url).content\n",
        "df = pd.read_excel(BytesIO(data))"
      ],
      "metadata": {
        "id": "-nK1BrjjzIsA"
      },
      "execution_count": 2,
      "outputs": []
    },
    {
      "cell_type": "code",
      "source": [
        "#Visualizando os dados:\n",
        "df"
      ],
      "metadata": {
        "colab": {
          "base_uri": "https://localhost:8080/",
          "height": 424
        },
        "id": "SB_1zAIQ0iSc",
        "outputId": "2508ac5c-f3bc-4bdb-9c14-0cd057b2b6ba"
      },
      "execution_count": 3,
      "outputs": [
        {
          "output_type": "execute_result",
          "data": {
            "text/plain": [
              "     Paciente sexo  idade  Diagnóstico        Ano  N° Aplicações    condição\n",
              "0           2    M      33     neurose  1951-1960              6  inalterado\n",
              "1           7    F      25     psicose  1951-1960              2  inalterado\n",
              "2           8    F      23     neurose  1951-1960              1  inalterado\n",
              "3           9    F      16     psicose  1951-1960             19  inalterado\n",
              "4          10    F      26     psicose  1951-1960             20  inalterado\n",
              "..        ...  ...     ...         ...        ...            ...         ...\n",
              "988       989    M      44   Depressão  2001-2005             12   melhorado\n",
              "989       990    F      80   Depressão  2001-2005             14   melhorado\n",
              "990       991    M      47     psicose  2001-2005             18   melhorado\n",
              "991       992    F      32   Depressão  2001-2005             13   melhorado\n",
              "992       993    M      74   Depressão  2001-2005             16   melhorado\n",
              "\n",
              "[993 rows x 7 columns]"
            ],
            "text/html": [
              "<div>\n",
              "<style scoped>\n",
              "    .dataframe tbody tr th:only-of-type {\n",
              "        vertical-align: middle;\n",
              "    }\n",
              "\n",
              "    .dataframe tbody tr th {\n",
              "        vertical-align: top;\n",
              "    }\n",
              "\n",
              "    .dataframe thead th {\n",
              "        text-align: right;\n",
              "    }\n",
              "</style>\n",
              "<table border=\"1\" class=\"dataframe\">\n",
              "  <thead>\n",
              "    <tr style=\"text-align: right;\">\n",
              "      <th></th>\n",
              "      <th>Paciente</th>\n",
              "      <th>sexo</th>\n",
              "      <th>idade</th>\n",
              "      <th>Diagnóstico</th>\n",
              "      <th>Ano</th>\n",
              "      <th>N° Aplicações</th>\n",
              "      <th>condição</th>\n",
              "    </tr>\n",
              "  </thead>\n",
              "  <tbody>\n",
              "    <tr>\n",
              "      <th>0</th>\n",
              "      <td>2</td>\n",
              "      <td>M</td>\n",
              "      <td>33</td>\n",
              "      <td>neurose</td>\n",
              "      <td>1951-1960</td>\n",
              "      <td>6</td>\n",
              "      <td>inalterado</td>\n",
              "    </tr>\n",
              "    <tr>\n",
              "      <th>1</th>\n",
              "      <td>7</td>\n",
              "      <td>F</td>\n",
              "      <td>25</td>\n",
              "      <td>psicose</td>\n",
              "      <td>1951-1960</td>\n",
              "      <td>2</td>\n",
              "      <td>inalterado</td>\n",
              "    </tr>\n",
              "    <tr>\n",
              "      <th>2</th>\n",
              "      <td>8</td>\n",
              "      <td>F</td>\n",
              "      <td>23</td>\n",
              "      <td>neurose</td>\n",
              "      <td>1951-1960</td>\n",
              "      <td>1</td>\n",
              "      <td>inalterado</td>\n",
              "    </tr>\n",
              "    <tr>\n",
              "      <th>3</th>\n",
              "      <td>9</td>\n",
              "      <td>F</td>\n",
              "      <td>16</td>\n",
              "      <td>psicose</td>\n",
              "      <td>1951-1960</td>\n",
              "      <td>19</td>\n",
              "      <td>inalterado</td>\n",
              "    </tr>\n",
              "    <tr>\n",
              "      <th>4</th>\n",
              "      <td>10</td>\n",
              "      <td>F</td>\n",
              "      <td>26</td>\n",
              "      <td>psicose</td>\n",
              "      <td>1951-1960</td>\n",
              "      <td>20</td>\n",
              "      <td>inalterado</td>\n",
              "    </tr>\n",
              "    <tr>\n",
              "      <th>...</th>\n",
              "      <td>...</td>\n",
              "      <td>...</td>\n",
              "      <td>...</td>\n",
              "      <td>...</td>\n",
              "      <td>...</td>\n",
              "      <td>...</td>\n",
              "      <td>...</td>\n",
              "    </tr>\n",
              "    <tr>\n",
              "      <th>988</th>\n",
              "      <td>989</td>\n",
              "      <td>M</td>\n",
              "      <td>44</td>\n",
              "      <td>Depressão</td>\n",
              "      <td>2001-2005</td>\n",
              "      <td>12</td>\n",
              "      <td>melhorado</td>\n",
              "    </tr>\n",
              "    <tr>\n",
              "      <th>989</th>\n",
              "      <td>990</td>\n",
              "      <td>F</td>\n",
              "      <td>80</td>\n",
              "      <td>Depressão</td>\n",
              "      <td>2001-2005</td>\n",
              "      <td>14</td>\n",
              "      <td>melhorado</td>\n",
              "    </tr>\n",
              "    <tr>\n",
              "      <th>990</th>\n",
              "      <td>991</td>\n",
              "      <td>M</td>\n",
              "      <td>47</td>\n",
              "      <td>psicose</td>\n",
              "      <td>2001-2005</td>\n",
              "      <td>18</td>\n",
              "      <td>melhorado</td>\n",
              "    </tr>\n",
              "    <tr>\n",
              "      <th>991</th>\n",
              "      <td>992</td>\n",
              "      <td>F</td>\n",
              "      <td>32</td>\n",
              "      <td>Depressão</td>\n",
              "      <td>2001-2005</td>\n",
              "      <td>13</td>\n",
              "      <td>melhorado</td>\n",
              "    </tr>\n",
              "    <tr>\n",
              "      <th>992</th>\n",
              "      <td>993</td>\n",
              "      <td>M</td>\n",
              "      <td>74</td>\n",
              "      <td>Depressão</td>\n",
              "      <td>2001-2005</td>\n",
              "      <td>16</td>\n",
              "      <td>melhorado</td>\n",
              "    </tr>\n",
              "  </tbody>\n",
              "</table>\n",
              "<p>993 rows × 7 columns</p>\n",
              "</div>"
            ]
          },
          "metadata": {},
          "execution_count": 3
        }
      ]
    },
    {
      "cell_type": "markdown",
      "source": [
        "# Gráfico descritivo"
      ],
      "metadata": {
        "id": "dyF2gPNXXRop"
      }
    },
    {
      "cell_type": "code",
      "source": [
        "#Seleciona os sucessos dentre todas as tentativas. Usado para calcular a porcentagem\n",
        "sucessos = df[df.condição=='melhorado'].groupby('Ano')['N° Aplicações'].sum()\n",
        "\n",
        "plt.figure(figsize=(14, 14))\n",
        "\n",
        "# Barra superior -> Soma todos os valores(sucessos e fracassos no ECT) para montar a posição das barras\n",
        "total = df.groupby('Ano')['N° Aplicações'].sum().reset_index()\n",
        "\n",
        "# Gráfico 1 -> barras superiores (casos sem resultado do ECT)\n",
        "bar1 = sns.barplot(x=\"Ano\",  y=\"N° Aplicações\", data=total, color='slategrey')\n",
        "\n",
        "#Cria anotações com as porcentagens\n",
        "n = 0\n",
        "for bar in bar1.patches:\n",
        "  # Usa a função `annotate` do pacote plt\n",
        "    bar1.annotate(format( (sucessos[n]/(bar.get_height())) , '.2%'),\n",
        "    (bar.get_x() + bar.get_width() / 2,\n",
        "     bar.get_height()), ha='center', va='center',\n",
        "     size=15, xytext=(0, 8),\n",
        "     textcoords='offset points')\n",
        "    n = n +1\n",
        "\n",
        "# Gráfico 2 ->  Apenas resultados com melhora evidenciada\n",
        "sucesso = df[df.condição=='melhorado']\n",
        "bar2 = sns.barplot(x=\"Ano\", y=\"N° Aplicações\", data=sucesso, estimator=sum, ci=None,  color='lightgreen')\n",
        "\n",
        "# Cria a legenda\n",
        "top_bar = mpatches.Patch(color='slategrey', label='Inalterado')\n",
        "bottom_bar = mpatches.Patch(color='lightgreen', label='Melhorado')\n",
        "plt.legend(handles=[top_bar, bottom_bar])\n",
        "\n",
        "plt.title('Percentual (anotado) de melhoras para aplicação de ECT, por décadas')\n",
        "\n",
        "# Grafica\n",
        "plt.show()"
      ],
      "metadata": {
        "colab": {
          "base_uri": "https://localhost:8080/",
          "height": 839
        },
        "id": "F2NpuEHhXWbJ",
        "outputId": "b599a0ed-138b-4ee2-9482-77e48d8cda79"
      },
      "execution_count": 4,
      "outputs": [
        {
          "output_type": "display_data",
          "data": {
            "text/plain": [
              "<Figure size 1008x1008 with 1 Axes>"
            ],
            "image/png": "[encoded data removed]"
          },
          "metadata": {
            "needs_background": "light"
          }
        }
      ]
    },
    {
      "cell_type": "markdown",
      "source": [
        "Podemos ver que não só há uma melhoria significativa a partir dos anos 1990 na porcentagem de melhorias, como o número de aplicações de ECT aumentou drasticamente comparado às décadas anteriores."
      ],
      "metadata": {
        "id": "t-WjHE37hEw1"
      }
    },
    {
      "cell_type": "markdown",
      "source": [
        "# Porcentagem de melhoria"
      ],
      "metadata": {
        "id": "F4Es4M4VhZRh"
      }
    },
    {
      "cell_type": "markdown",
      "source": [
        "Para este teste de hipóteses, precisamos ter algumas coisas em mente:\n",
        "*  As variáveis são qualitativas (melhoria ou não) e pareadas, que podem ser descritas por sucessos ou fracassos na aplicação do ECT;\n",
        "*  As observações são independentes;\n",
        "*  Vamos comparar a década de 2001+ com a anterior (1991-2000).\n",
        "\n",
        "Com essas características, o teste de McNemar será o mais adequado para esse teste de hipóteses."
      ],
      "metadata": {
        "id": "pL26XEk1k1O-"
      }
    },
    {
      "cell_type": "markdown",
      "source": [
        "![Captura de tela de 2022-10-04 17-02-38.png](data:image/png;base64,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)"
      ],
      "metadata": {
        "id": "nqZKuChqmAof"
      }
    },
    {
      "cell_type": "markdown",
      "source": [
        "onde\n",
        "*  $H_0: P(X_1 = 0, X_2 = 1) = P(X_1 = 1, X_2 = 0)$, ou seja, a probabilidade de um elemento da amostra mudar de fracasso para sucesso é a mesma de um ir de sucesso para fracasso;\n",
        "   * $H_a: P(X_1 = 0, X_2 = 1) \\neq P(X_1 = 1, X_2 = 0)$\n",
        "\n",
        "* $b+c$: número de unidades com respostas discordantes;\n",
        "* $a+d$: número de observações em concordância;\n",
        "* $n = a+b+c+d$: tamanho da amostra."
      ],
      "metadata": {
        "id": "Ng9atiKsmCmg"
      }
    },
    {
      "cell_type": "code",
      "source": [
        "dados_crosstab = pd.crosstab(index=df['Ano'], columns=df['condição'])   #cria a tabela como acima considerando as décadas e os resultados do ECT\n",
        "dados_crosstab = dados_crosstab.drop(index=['1951-1960', '1961-1970', '1971-1980', '1981-1990'], axis=0)   #remove os valores que não são das décadas de interesse\n",
        "dados_crosstab"
      ],
      "metadata": {
        "colab": {
          "base_uri": "https://localhost:8080/",
          "height": 143
        },
        "id": "OIs8GYHft0v8",
        "outputId": "96122e04-1341-494f-d6a3-5768094dcd13"
      },
      "execution_count": 38,
      "outputs": [
        {
          "output_type": "execute_result",
          "data": {
            "text/plain": [
              "condição   inalterado  melhorado\n",
              "Ano                             \n",
              "1991-2000           9        322\n",
              "2001-2005          17        441"
            ],
            "text/html": [
              "<div>\n",
              "<style scoped>\n",
              "    .dataframe tbody tr th:only-of-type {\n",
              "        vertical-align: middle;\n",
              "    }\n",
              "\n",
              "    .dataframe tbody tr th {\n",
              "        vertical-align: top;\n",
              "    }\n",
              "\n",
              "    .dataframe thead th {\n",
              "        text-align: right;\n",
              "    }\n",
              "</style>\n",
              "<table border=\"1\" class=\"dataframe\">\n",
              "  <thead>\n",
              "    <tr style=\"text-align: right;\">\n",
              "      <th>condição</th>\n",
              "      <th>inalterado</th>\n",
              "      <th>melhorado</th>\n",
              "    </tr>\n",
              "    <tr>\n",
              "      <th>Ano</th>\n",
              "      <th></th>\n",
              "      <th></th>\n",
              "    </tr>\n",
              "  </thead>\n",
              "  <tbody>\n",
              "    <tr>\n",
              "      <th>1991-2000</th>\n",
              "      <td>9</td>\n",
              "      <td>322</td>\n",
              "    </tr>\n",
              "    <tr>\n",
              "      <th>2001-2005</th>\n",
              "      <td>17</td>\n",
              "      <td>441</td>\n",
              "    </tr>\n",
              "  </tbody>\n",
              "</table>\n",
              "</div>"
            ]
          },
          "metadata": {},
          "execution_count": 38
        }
      ]
    },
    {
      "cell_type": "code",
      "source": [
        "crosstab = pd.DataFrame.to_numpy(dados_crosstab)    #transforma em um array para os cálculos\n",
        "crosstab"
      ],
      "metadata": {
        "colab": {
          "base_uri": "https://localhost:8080/"
        },
        "id": "YlTYnZq7yB-G",
        "outputId": "c1529e4b-341c-442f-859f-bebd6fe84ba2"
      },
      "execution_count": 45,
      "outputs": [
        {
          "output_type": "execute_result",
          "data": {
            "text/plain": [
              "array([[  9, 322],\n",
              "       [ 17, 441]])"
            ]
          },
          "metadata": {},
          "execution_count": 45
        }
      ]
    },
    {
      "cell_type": "code",
      "source": [
        "#Implementa o teste\n",
        "#Referência para essa biblioteca: https://www.statsmodels.org/stable/generated/statsmodels.stats.contingency_tables.mcnemar.html#statsmodels.stats.contingency_tables.mcnemar\n",
        "print(mcnemar(crosstab))"
      ],
      "metadata": {
        "id": "L2L6UA02g9Nm",
        "colab": {
          "base_uri": "https://localhost:8080/"
        },
        "outputId": "5c14f215-0b92-49f6-a25d-fb4baa0a51ff"
      },
      "execution_count": 46,
      "outputs": [
        {
          "output_type": "stream",
          "name": "stdout",
          "text": [
            "pvalue      3.634620065197408e-74\n",
            "statistic   17.0\n"
          ]
        }
      ]
    },
    {
      "cell_type": "markdown",
      "source": [
        "Como o p-valor acima é muito menor que $α = 0.1$, para 90% de melhoria, decidimos pela hipótese."
      ],
      "metadata": {
        "id": "8kZrJIdKyrOS"
      }
    },
    {
      "cell_type": "markdown",
      "source": [
        "# Número de aplicações"
      ],
      "metadata": {
        "id": "3Jj-J08Ph2vK"
      }
    },
    {
      "cell_type": "markdown",
      "source": [
        "Este teste de hipótese, ao contrário do anterior, é paramétrico nas variáveis de interesse (número de aplicações). As outras hipóteses levantadas acima ainda são válidas.\n",
        "\n",
        "* Note que aqui não foi especificado o intervalo de interesse. Por isto, vamos utilizar todas as décadas do conjunto de dados, inicialmente, e depois comparar com o intervalo anterior.\n",
        "\n",
        "Podemos então utilizar o teste de Wilcox para decidir pela hipótese, que será  \"grupo de aplicações com resultado positivo maior do que o negativo\" e usará $α=0.05$."
      ],
      "metadata": {
        "id": "z17bZ3F_zc6h"
      }
    },
    {
      "cell_type": "code",
      "source": [
        "#Define o número de fracassos por década\n",
        "#-> o de sucessos já está definido acima na seção \"Gráfico descritivo\"\n",
        "fracassos = df[df.condição=='inalterado'].groupby('Ano')['N° Aplicações'].sum()\n",
        "fracassos"
      ],
      "metadata": {
        "colab": {
          "base_uri": "https://localhost:8080/"
        },
        "id": "p6BykC6B6fRp",
        "outputId": "f951651f-41c2-4aec-8746-d206c410043b"
      },
      "execution_count": 76,
      "outputs": [
        {
          "output_type": "execute_result",
          "data": {
            "text/plain": [
              "Ano\n",
              "1951-1960    163\n",
              "1961-1970     53\n",
              "1971-1980     12\n",
              "1981-1990     11\n",
              "1991-2000     66\n",
              "2001-2005    132\n",
              "Name: N° Aplicações, dtype: int64"
            ]
          },
          "metadata": {},
          "execution_count": 76
        }
      ]
    },
    {
      "cell_type": "code",
      "source": [
        "#O dataframe tem como valores as aplicações por década e seus resultados\n",
        "d = {'Ano': df['Ano'].unique(), 'melhorado': pd.Series.to_numpy(sucessos), 'inalterado': pd.Series.to_numpy(fracassos)}\n",
        "dados_sf = pd.DataFrame(data=d)\n",
        "dados_sf"
      ],
      "metadata": {
        "colab": {
          "base_uri": "https://localhost:8080/",
          "height": 238
        },
        "id": "1cKVdqka63Hr",
        "outputId": "40e26970-28be-450a-9443-9c147898188b"
      },
      "execution_count": 96,
      "outputs": [
        {
          "output_type": "execute_result",
          "data": {
            "text/plain": [
              "         Ano  melhorado  inalterado\n",
              "0  1951-1960        723         163\n",
              "1  1961-1970        634          53\n",
              "2  1971-1980        117          12\n",
              "3  1981-1990        146          11\n",
              "4  1991-2000       6875          66\n",
              "5  2001-2005       7958         132"
            ],
            "text/html": [
              "<div>\n",
              "<style scoped>\n",
              "    .dataframe tbody tr th:only-of-type {\n",
              "        vertical-align: middle;\n",
              "    }\n",
              "\n",
              "    .dataframe tbody tr th {\n",
              "        vertical-align: top;\n",
              "    }\n",
              "\n",
              "    .dataframe thead th {\n",
              "        text-align: right;\n",
              "    }\n",
              "</style>\n",
              "<table border=\"1\" class=\"dataframe\">\n",
              "  <thead>\n",
              "    <tr style=\"text-align: right;\">\n",
              "      <th></th>\n",
              "      <th>Ano</th>\n",
              "      <th>melhorado</th>\n",
              "      <th>inalterado</th>\n",
              "    </tr>\n",
              "  </thead>\n",
              "  <tbody>\n",
              "    <tr>\n",
              "      <th>0</th>\n",
              "      <td>1951-1960</td>\n",
              "      <td>723</td>\n",
              "      <td>163</td>\n",
              "    </tr>\n",
              "    <tr>\n",
              "      <th>1</th>\n",
              "      <td>1961-1970</td>\n",
              "      <td>634</td>\n",
              "      <td>53</td>\n",
              "    </tr>\n",
              "    <tr>\n",
              "      <th>2</th>\n",
              "      <td>1971-1980</td>\n",
              "      <td>117</td>\n",
              "      <td>12</td>\n",
              "    </tr>\n",
              "    <tr>\n",
              "      <th>3</th>\n",
              "      <td>1981-1990</td>\n",
              "      <td>146</td>\n",
              "      <td>11</td>\n",
              "    </tr>\n",
              "    <tr>\n",
              "      <th>4</th>\n",
              "      <td>1991-2000</td>\n",
              "      <td>6875</td>\n",
              "      <td>66</td>\n",
              "    </tr>\n",
              "    <tr>\n",
              "      <th>5</th>\n",
              "      <td>2001-2005</td>\n",
              "      <td>7958</td>\n",
              "      <td>132</td>\n",
              "    </tr>\n",
              "  </tbody>\n",
              "</table>\n",
              "</div>"
            ]
          },
          "metadata": {},
          "execution_count": 96
        }
      ]
    },
    {
      "cell_type": "code",
      "source": [
        "#Implementa o teste para todas as décadas\n",
        "sp.wilcoxon(dados_sf['melhorado'], dados_sf['inalterado'])"
      ],
      "metadata": {
        "colab": {
          "base_uri": "https://localhost:8080/"
        },
        "id": "_ortYrbh8R5u",
        "outputId": "b608e4e2-e2b2-486d-b06b-727520f014bf"
      },
      "execution_count": 90,
      "outputs": [
        {
          "output_type": "execute_result",
          "data": {
            "text/plain": [
              "WilcoxonResult(statistic=0.0, pvalue=0.03125)"
            ]
          },
          "metadata": {},
          "execution_count": 90
        }
      ]
    },
    {
      "cell_type": "markdown",
      "source": [
        "O que implica que a hipótese deve ser rejeitada (p-valor $< α$)"
      ],
      "metadata": {
        "id": "ouPpx6zZBdhe"
      }
    },
    {
      "cell_type": "code",
      "source": [
        "#Agora, calcula para as mesmas décadas da questão anterior\n",
        "dados_sf = dados_sf.drop(index=[0,1,2,3], axis=0) \n",
        "dados_sf"
      ],
      "metadata": {
        "colab": {
          "base_uri": "https://localhost:8080/",
          "height": 112
        },
        "id": "pCsDsktr9ymH",
        "outputId": "5fc89dc7-8724-42d7-af1d-e64ba70a70e3"
      },
      "execution_count": 97,
      "outputs": [
        {
          "output_type": "execute_result",
          "data": {
            "text/plain": [
              "         Ano  melhorado  inalterado\n",
              "4  1991-2000       6875          66\n",
              "5  2001-2005       7958         132"
            ],
            "text/html": [
              "<div>\n",
              "<style scoped>\n",
              "    .dataframe tbody tr th:only-of-type {\n",
              "        vertical-align: middle;\n",
              "    }\n",
              "\n",
              "    .dataframe tbody tr th {\n",
              "        vertical-align: top;\n",
              "    }\n",
              "\n",
              "    .dataframe thead th {\n",
              "        text-align: right;\n",
              "    }\n",
              "</style>\n",
              "<table border=\"1\" class=\"dataframe\">\n",
              "  <thead>\n",
              "    <tr style=\"text-align: right;\">\n",
              "      <th></th>\n",
              "      <th>Ano</th>\n",
              "      <th>melhorado</th>\n",
              "      <th>inalterado</th>\n",
              "    </tr>\n",
              "  </thead>\n",
              "  <tbody>\n",
              "    <tr>\n",
              "      <th>4</th>\n",
              "      <td>1991-2000</td>\n",
              "      <td>6875</td>\n",
              "      <td>66</td>\n",
              "    </tr>\n",
              "    <tr>\n",
              "      <th>5</th>\n",
              "      <td>2001-2005</td>\n",
              "      <td>7958</td>\n",
              "      <td>132</td>\n",
              "    </tr>\n",
              "  </tbody>\n",
              "</table>\n",
              "</div>"
            ]
          },
          "metadata": {},
          "execution_count": 97
        }
      ]
    },
    {
      "cell_type": "code",
      "source": [
        "#Realiza o mesmo teste, mas somente para as duas últimas décadas\n",
        "sp.wilcoxon(dados_sf['melhorado'], dados_sf['inalterado'])"
      ],
      "metadata": {
        "colab": {
          "base_uri": "https://localhost:8080/"
        },
        "id": "a7yu2v8r-f5m",
        "outputId": "28364c12-b078-432c-d188-9b1376fc4838"
      },
      "execution_count": 106,
      "outputs": [
        {
          "output_type": "execute_result",
          "data": {
            "text/plain": [
              "WilcoxonResult(statistic=0.0, pvalue=0.5)"
            ]
          },
          "metadata": {},
          "execution_count": 106
        }
      ]
    },
    {
      "cell_type": "markdown",
      "source": [
        "De onde podemos aceitar a hipótese por p-valor $> α$"
      ],
      "metadata": {
        "id": "plXoFlGaAz-r"
      }
    },
    {
      "cell_type": "markdown",
      "source": [
        "**Conclusão**: a grande alteração no número de aplicações com resultado positivo após a década de 80 é de grande influência no aceite ou na rejeição da hipótese."
      ],
      "metadata": {
        "id": "NhrV-aNvB_F5"
      }
    }
  ]
}