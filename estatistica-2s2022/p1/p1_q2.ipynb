{
  "nbformat": 4,
  "nbformat_minor": 0,
  "metadata": {
    "colab": {
      "provenance": [],
      "collapsed_sections": [],
      "toc_visible": true
    },
    "kernelspec": {
      "name": "python3",
      "display_name": "Python 3"
    },
    "language_info": {
      "name": "python"
    }
  },
  "cells": [
    {
      "cell_type": "markdown",
      "source": [
        "# Prova 1 - Questão 2"
      ],
      "metadata": {
        "id": "OmtC5mhCzVLA"
      }
    },
    {
      "cell_type": "markdown",
      "source": [
        "Autora: Luiza Lober de Souza Piva, nUSP: 9302292"
      ],
      "metadata": {
        "id": "BRB4uwQCzXan"
      }
    },
    {
      "cell_type": "markdown",
      "source": [
        "### Configuração"
      ],
      "metadata": {
        "id": "TmyG8KsSzbHH"
      }
    },
    {
      "cell_type": "code",
      "execution_count": null,
      "metadata": {
        "id": "OMJ9w1lwuFEQ"
      },
      "outputs": [],
      "source": [
        "#Ler e manipular dataframes e valores\n",
        "import pandas as pd\n",
        "import numpy as np\n",
        "import scipy as sp\n",
        "import matplotlib.pyplot as plt\n",
        "\n",
        "#Importar os dados\n",
        "import requests as rq\n",
        "from io import BytesIO"
      ]
    },
    {
      "cell_type": "code",
      "source": [
        "#Cria o dataframe com as cotas dos deputados\n",
        "url = 'https://raw.githubusercontent.com/luizalober/doc-disciplinas/main/estatistica-2s2022/p1/Cotas.csv'   #adicionei no github por erros na importacão via edisciplinas\n",
        "data = rq.get(url).content\n",
        "df = pd.read_csv(BytesIO(data), sep=';', encoding='latin-1')    #esta tabela não é decodificada por utf-8. Uso latin-1 como alternativa"
      ],
      "metadata": {
        "id": "-nK1BrjjzIsA"
      },
      "execution_count": null,
      "outputs": []
    },
    {
      "cell_type": "code",
      "source": [
        "#Visualizando os dados:\n",
        "df"
      ],
      "metadata": {
        "colab": {
          "base_uri": "https://localhost:8080/",
          "height": 424
        },
        "id": "SB_1zAIQ0iSc",
        "outputId": "ed86a80a-eb77-4079-92a3-cc825d89d109"
      },
      "execution_count": null,
      "outputs": [
        {
          "output_type": "execute_result",
          "data": {
            "text/plain": [
              "     REEMBOLSO    NOME DO PARLAMENTAR   ANO  \\\n",
              "0            0              ABOU ANNI  2020   \n",
              "1            0              ABOU ANNI  2020   \n",
              "2            0              ABOU ANNI  2020   \n",
              "3            0  ALENCAR SANTANA BRAGA  2020   \n",
              "4      7002207  ALENCAR SANTANA BRAGA  2020   \n",
              "..         ...                    ...   ...   \n",
              "831    1723468            VITOR LIPPI  2020   \n",
              "832          0            VITOR LIPPI  2020   \n",
              "833    6997561            VITOR LIPPI  2020   \n",
              "834    7001541            VITOR LIPPI  2020   \n",
              "835    6999521            VITOR LIPPI  2020   \n",
              "\n",
              "                                   SUBQUOTA TRANSLATED  \\\n",
              "0                                     Serviços postais   \n",
              "1                                     Serviços postais   \n",
              "2                                     Serviços postais   \n",
              "3                                     Serviços postais   \n",
              "4                         Combustíveis e lubrificantes   \n",
              "..                                                 ...   \n",
              "831                              Emissão bilhete aéreo   \n",
              "832                                   Serviços postais   \n",
              "833                       Combustíveis e lubrificantes   \n",
              "834  Manutenção de escritório de apoio à atividade ...   \n",
              "835                Divulgação da atividade parlamentar   \n",
              "\n",
              "                                            FORNECEDOR    VALOR  \n",
              "0    CORREIOS - MALA DIRETA POSTAL BÁSICA-00.000.00...    88.16  \n",
              "1    CORREIOS - MALA DIRETA POSTAL BÁSICA-00.000.00...   121.34  \n",
              "2    CORREIOS - MALA DIRETA POSTAL BÁSICA-00.000.00...  1274.13  \n",
              "3    CORREIOS - SEDEX CONVENCIONAL COM AR-00.000.00...    61.15  \n",
              "4         AUTO POSTO NOVO GAMA LTDA-20.168.440/0001-60   111.92  \n",
              "..                                                 ...      ...  \n",
              "831                Cia Aérea - AZUL-09.296.295/0001-60   395.28  \n",
              "832        CORREIOS - ENCOMENDA PAC-00.000.000/0000-07   484.70  \n",
              "833          SERAUT AUTO POSTO LTDA-59.690.438/0001-91  1115.86  \n",
              "834  TECHLAN SERVICOS E COMERCIALIZACAO EM TECNOLOG...  2344.00  \n",
              "835      THAMARA ESPINDOLA DE PAULA-19.945.349/0001-24  3500.00  \n",
              "\n",
              "[836 rows x 6 columns]"
            ],
            "text/html": [
              "<div>\n",
              "<style scoped>\n",
              "    .dataframe tbody tr th:only-of-type {\n",
              "        vertical-align: middle;\n",
              "    }\n",
              "\n",
              "    .dataframe tbody tr th {\n",
              "        vertical-align: top;\n",
              "    }\n",
              "\n",
              "    .dataframe thead th {\n",
              "        text-align: right;\n",
              "    }\n",
              "</style>\n",
              "<table border=\"1\" class=\"dataframe\">\n",
              "  <thead>\n",
              "    <tr style=\"text-align: right;\">\n",
              "      <th></th>\n",
              "      <th>REEMBOLSO</th>\n",
              "      <th>NOME DO PARLAMENTAR</th>\n",
              "      <th>ANO</th>\n",
              "      <th>SUBQUOTA TRANSLATED</th>\n",
              "      <th>FORNECEDOR</th>\n",
              "      <th>VALOR</th>\n",
              "    </tr>\n",
              "  </thead>\n",
              "  <tbody>\n",
              "    <tr>\n",
              "      <th>0</th>\n",
              "      <td>0</td>\n",
              "      <td>ABOU ANNI</td>\n",
              "      <td>2020</td>\n",
              "      <td>Serviços postais</td>\n",
              "      <td>CORREIOS - MALA DIRETA POSTAL BÁSICA-00.000.00...</td>\n",
              "      <td>88.16</td>\n",
              "    </tr>\n",
              "    <tr>\n",
              "      <th>1</th>\n",
              "      <td>0</td>\n",
              "      <td>ABOU ANNI</td>\n",
              "      <td>2020</td>\n",
              "      <td>Serviços postais</td>\n",
              "      <td>CORREIOS - MALA DIRETA POSTAL BÁSICA-00.000.00...</td>\n",
              "      <td>121.34</td>\n",
              "    </tr>\n",
              "    <tr>\n",
              "      <th>2</th>\n",
              "      <td>0</td>\n",
              "      <td>ABOU ANNI</td>\n",
              "      <td>2020</td>\n",
              "      <td>Serviços postais</td>\n",
              "      <td>CORREIOS - MALA DIRETA POSTAL BÁSICA-00.000.00...</td>\n",
              "      <td>1274.13</td>\n",
              "    </tr>\n",
              "    <tr>\n",
              "      <th>3</th>\n",
              "      <td>0</td>\n",
              "      <td>ALENCAR SANTANA BRAGA</td>\n",
              "      <td>2020</td>\n",
              "      <td>Serviços postais</td>\n",
              "      <td>CORREIOS - SEDEX CONVENCIONAL COM AR-00.000.00...</td>\n",
              "      <td>61.15</td>\n",
              "    </tr>\n",
              "    <tr>\n",
              "      <th>4</th>\n",
              "      <td>7002207</td>\n",
              "      <td>ALENCAR SANTANA BRAGA</td>\n",
              "      <td>2020</td>\n",
              "      <td>Combustíveis e lubrificantes</td>\n",
              "      <td>AUTO POSTO NOVO GAMA LTDA-20.168.440/0001-60</td>\n",
              "      <td>111.92</td>\n",
              "    </tr>\n",
              "    <tr>\n",
              "      <th>...</th>\n",
              "      <td>...</td>\n",
              "      <td>...</td>\n",
              "      <td>...</td>\n",
              "      <td>...</td>\n",
              "      <td>...</td>\n",
              "      <td>...</td>\n",
              "    </tr>\n",
              "    <tr>\n",
              "      <th>831</th>\n",
              "      <td>1723468</td>\n",
              "      <td>VITOR LIPPI</td>\n",
              "      <td>2020</td>\n",
              "      <td>Emissão bilhete aéreo</td>\n",
              "      <td>Cia Aérea - AZUL-09.296.295/0001-60</td>\n",
              "      <td>395.28</td>\n",
              "    </tr>\n",
              "    <tr>\n",
              "      <th>832</th>\n",
              "      <td>0</td>\n",
              "      <td>VITOR LIPPI</td>\n",
              "      <td>2020</td>\n",
              "      <td>Serviços postais</td>\n",
              "      <td>CORREIOS - ENCOMENDA PAC-00.000.000/0000-07</td>\n",
              "      <td>484.70</td>\n",
              "    </tr>\n",
              "    <tr>\n",
              "      <th>833</th>\n",
              "      <td>6997561</td>\n",
              "      <td>VITOR LIPPI</td>\n",
              "      <td>2020</td>\n",
              "      <td>Combustíveis e lubrificantes</td>\n",
              "      <td>SERAUT AUTO POSTO LTDA-59.690.438/0001-91</td>\n",
              "      <td>1115.86</td>\n",
              "    </tr>\n",
              "    <tr>\n",
              "      <th>834</th>\n",
              "      <td>7001541</td>\n",
              "      <td>VITOR LIPPI</td>\n",
              "      <td>2020</td>\n",
              "      <td>Manutenção de escritório de apoio à atividade ...</td>\n",
              "      <td>TECHLAN SERVICOS E COMERCIALIZACAO EM TECNOLOG...</td>\n",
              "      <td>2344.00</td>\n",
              "    </tr>\n",
              "    <tr>\n",
              "      <th>835</th>\n",
              "      <td>6999521</td>\n",
              "      <td>VITOR LIPPI</td>\n",
              "      <td>2020</td>\n",
              "      <td>Divulgação da atividade parlamentar</td>\n",
              "      <td>THAMARA ESPINDOLA DE PAULA-19.945.349/0001-24</td>\n",
              "      <td>3500.00</td>\n",
              "    </tr>\n",
              "  </tbody>\n",
              "</table>\n",
              "<p>836 rows × 6 columns</p>\n",
              "</div>"
            ]
          },
          "metadata": {},
          "execution_count": 140
        }
      ]
    },
    {
      "cell_type": "code",
      "source": [
        "#Mostra o número de deputados considerados:\n",
        "deputados = df['NOME DO PARLAMENTAR'].unique()\n",
        "print('Total de deputados: ', len(deputados))"
      ],
      "metadata": {
        "colab": {
          "base_uri": "https://localhost:8080/"
        },
        "id": "1TA0fjXW8g23",
        "outputId": "a8e0a93b-025c-41b2-955f-300c90eaacc4"
      },
      "execution_count": null,
      "outputs": [
        {
          "output_type": "stream",
          "name": "stdout",
          "text": [
            "Total de deputados:  63\n"
          ]
        }
      ]
    },
    {
      "cell_type": "code",
      "source": [
        "#Cria uma nova coluna para contar o número de cotas por deputado\n",
        "num_orcamentos = []\n",
        "\n",
        "for dep in range(0,len(deputados), 1):\n",
        "  dados = df.loc[df['NOME DO PARLAMENTAR'] == deputados[dep]]\n",
        "  num_orcamentos.append(len(dados['VALOR']))"
      ],
      "metadata": {
        "id": "8HcoTaWGtZPw"
      },
      "execution_count": null,
      "outputs": []
    },
    {
      "cell_type": "markdown",
      "source": [
        "Note que, da tabela acima, cada deputado tem cota em mais de uma categoria, sendo estas mostradas em `SUBQUOTA TRANSLATED`. Vamos agora criar \n",
        "*  `df_total`, representando a soma de todas as cotas para cada deputado;\n",
        "*  `df_cat`, onde queremos o valor de gastos por categoria, somando o valor gasto dos deputados para cada uma das categorias."
      ],
      "metadata": {
        "id": "neOMebCV3vhN"
      }
    },
    {
      "cell_type": "code",
      "source": [
        "df_total = df.groupby('NOME DO PARLAMENTAR').sum()    #agrupa por deputado e soma.\n",
        "df_total['ANO'] = '2020'   #muda o ano para 2020, que é o valor original desta coluna no dataframe anterior\n",
        "df_total.insert(len(df_total.columns), 'N_COTAS', num_orcamentos)   #adiciona o número de orçamentos para um dado deputado\n",
        "df_total"
      ],
      "metadata": {
        "colab": {
          "base_uri": "https://localhost:8080/",
          "height": 455
        },
        "id": "ZDg_12QZ3_Cu",
        "outputId": "58892bd4-3c2f-4b98-8f5f-0c5d400aeb8a"
      },
      "execution_count": null,
      "outputs": [
        {
          "output_type": "execute_result",
          "data": {
            "text/plain": [
              "                       REEMBOLSO   ANO     VALOR  N_COTAS\n",
              "NOME DO PARLAMENTAR                                      \n",
              "ABOU ANNI                      0  2020   1483.63        3\n",
              "ALENCAR SANTANA BRAGA   35011688  2020   6736.31        6\n",
              "ALEX MANENTE            77011868  2020   5247.18       12\n",
              "ALEXANDRE FROTA         62996543  2020  19895.61       14\n",
              "ALEXANDRE LEITE         41994356  2020   1245.26        7\n",
              "...                          ...   ...       ...      ...\n",
              "TIRIRICA                21006639  2020    892.29        3\n",
              "VANDERLEI MACRIS       238171531  2020  17752.34       34\n",
              "VICENTINHO               6997360  2020    620.55        3\n",
              "VINICIUS CARVALHO      357055541  2020  14280.60       51\n",
              "VITOR LIPPI            332540923  2020  13878.25       50\n",
              "\n",
              "[63 rows x 4 columns]"
            ],
            "text/html": [
              "<div>\n",
              "<style scoped>\n",
              "    .dataframe tbody tr th:only-of-type {\n",
              "        vertical-align: middle;\n",
              "    }\n",
              "\n",
              "    .dataframe tbody tr th {\n",
              "        vertical-align: top;\n",
              "    }\n",
              "\n",
              "    .dataframe thead th {\n",
              "        text-align: right;\n",
              "    }\n",
              "</style>\n",
              "<table border=\"1\" class=\"dataframe\">\n",
              "  <thead>\n",
              "    <tr style=\"text-align: right;\">\n",
              "      <th></th>\n",
              "      <th>REEMBOLSO</th>\n",
              "      <th>ANO</th>\n",
              "      <th>VALOR</th>\n",
              "      <th>N_COTAS</th>\n",
              "    </tr>\n",
              "    <tr>\n",
              "      <th>NOME DO PARLAMENTAR</th>\n",
              "      <th></th>\n",
              "      <th></th>\n",
              "      <th></th>\n",
              "      <th></th>\n",
              "    </tr>\n",
              "  </thead>\n",
              "  <tbody>\n",
              "    <tr>\n",
              "      <th>ABOU ANNI</th>\n",
              "      <td>0</td>\n",
              "      <td>2020</td>\n",
              "      <td>1483.63</td>\n",
              "      <td>3</td>\n",
              "    </tr>\n",
              "    <tr>\n",
              "      <th>ALENCAR SANTANA BRAGA</th>\n",
              "      <td>35011688</td>\n",
              "      <td>2020</td>\n",
              "      <td>6736.31</td>\n",
              "      <td>6</td>\n",
              "    </tr>\n",
              "    <tr>\n",
              "      <th>ALEX MANENTE</th>\n",
              "      <td>77011868</td>\n",
              "      <td>2020</td>\n",
              "      <td>5247.18</td>\n",
              "      <td>12</td>\n",
              "    </tr>\n",
              "    <tr>\n",
              "      <th>ALEXANDRE FROTA</th>\n",
              "      <td>62996543</td>\n",
              "      <td>2020</td>\n",
              "      <td>19895.61</td>\n",
              "      <td>14</td>\n",
              "    </tr>\n",
              "    <tr>\n",
              "      <th>ALEXANDRE LEITE</th>\n",
              "      <td>41994356</td>\n",
              "      <td>2020</td>\n",
              "      <td>1245.26</td>\n",
              "      <td>7</td>\n",
              "    </tr>\n",
              "    <tr>\n",
              "      <th>...</th>\n",
              "      <td>...</td>\n",
              "      <td>...</td>\n",
              "      <td>...</td>\n",
              "      <td>...</td>\n",
              "    </tr>\n",
              "    <tr>\n",
              "      <th>TIRIRICA</th>\n",
              "      <td>21006639</td>\n",
              "      <td>2020</td>\n",
              "      <td>892.29</td>\n",
              "      <td>3</td>\n",
              "    </tr>\n",
              "    <tr>\n",
              "      <th>VANDERLEI MACRIS</th>\n",
              "      <td>238171531</td>\n",
              "      <td>2020</td>\n",
              "      <td>17752.34</td>\n",
              "      <td>34</td>\n",
              "    </tr>\n",
              "    <tr>\n",
              "      <th>VICENTINHO</th>\n",
              "      <td>6997360</td>\n",
              "      <td>2020</td>\n",
              "      <td>620.55</td>\n",
              "      <td>3</td>\n",
              "    </tr>\n",
              "    <tr>\n",
              "      <th>VINICIUS CARVALHO</th>\n",
              "      <td>357055541</td>\n",
              "      <td>2020</td>\n",
              "      <td>14280.60</td>\n",
              "      <td>51</td>\n",
              "    </tr>\n",
              "    <tr>\n",
              "      <th>VITOR LIPPI</th>\n",
              "      <td>332540923</td>\n",
              "      <td>2020</td>\n",
              "      <td>13878.25</td>\n",
              "      <td>50</td>\n",
              "    </tr>\n",
              "  </tbody>\n",
              "</table>\n",
              "<p>63 rows × 4 columns</p>\n",
              "</div>"
            ]
          },
          "metadata": {},
          "execution_count": 143
        }
      ]
    },
    {
      "cell_type": "code",
      "source": [
        "df_cat = df.groupby('SUBQUOTA TRANSLATED').sum()    #agrupa por categoria e soma por deputado.\n",
        "df_cat['ANO'] = '2020'   #muda o ano para 2020, que é o valor original desta coluna no dataframe anterior\n",
        "\n",
        "#Aqui, conta o número de vezes que tal cota foi requisitada e insere este valor na tabela\n",
        "num_requisitos = []\n",
        "categorias = df['SUBQUOTA TRANSLATED'].unique()\n",
        "\n",
        "for cat in range(0,len(categorias), 1):\n",
        "  dados = df.loc[df['SUBQUOTA TRANSLATED'] == categorias[cat]]\n",
        "  num_requisitos.append(len(dados['VALOR']))\n",
        "\n",
        "df_cat.insert(len(df_cat.columns), 'REQUISIÇÕES', num_requisitos)   #adiciona o número de deputados que tem cota nessa categoria\n",
        "\n",
        "#mostra a tabela resultante\n",
        "df_cat"
      ],
      "metadata": {
        "colab": {
          "base_uri": "https://localhost:8080/",
          "height": 520
        },
        "id": "yKLnGQqw_-0h",
        "outputId": "896c1d27-5b8d-4613-c1b9-25c40d9869df"
      },
      "execution_count": null,
      "outputs": [
        {
          "output_type": "execute_result",
          "data": {
            "text/plain": [
              "                                                     REEMBOLSO   ANO  \\\n",
              "SUBQUOTA TRANSLATED                                                    \n",
              "Assinatura de publicações                             21006778  2020   \n",
              "Combustíveis e lubrificantes                        1638372662  2020   \n",
              "Consultorias, pesquisas e trabalhos técnicos          42012185  2020   \n",
              "Divulgação da atividade parlamentar                  273003960  2020   \n",
              "Emissão bilhete aéreo                                 36190986  2020   \n",
              "Fornecimento de alimentação do parlamentar           294181967  2020   \n",
              "Hospedagem ,exceto do parlamentar no distrito f...   231032289  2020   \n",
              "Locação ou fretamento de veículos automotores        126044390  2020   \n",
              "Manutenção de escritório de apoio à atividade p...   714028039  2020   \n",
              "Passagens aéreas                                      42016325  2020   \n",
              "Serviço de segurança prestado por empresa espec...    27998957  2020   \n",
              "Serviço de táxi, pedágio e estacionamento            812153876  2020   \n",
              "Serviços postais                                     147030718  2020   \n",
              "Telefonia                                            245028854  2020   \n",
              "\n",
              "                                                        VALOR  REQUISIÇÕES  \n",
              "SUBQUOTA TRANSLATED                                                         \n",
              "Assinatura de publicações                              347.80          177  \n",
              "Combustíveis e lubrificantes                         58480.60          234  \n",
              "Consultorias, pesquisas e trabalhos técnicos         43000.00           39  \n",
              "Divulgação da atividade parlamentar                 247381.41           35  \n",
              "Emissão bilhete aéreo                                22639.77          102  \n",
              "Fornecimento de alimentação do parlamentar            1749.87           42  \n",
              "Hospedagem ,exceto do parlamentar no distrito f...    9192.11           18  \n",
              "Locação ou fretamento de veículos automotores        66639.03            6  \n",
              "Manutenção de escritório de apoio à atividade p...   99672.45            4  \n",
              "Passagens aéreas                                      5907.05          116  \n",
              "Serviço de segurança prestado por empresa espec...    9489.00           33  \n",
              "Serviço de táxi, pedágio e estacionamento             6053.93           21  \n",
              "Serviços postais                                     17533.59            3  \n",
              "Telefonia                                            17636.45            6  "
            ],
            "text/html": [
              "<div>\n",
              "<style scoped>\n",
              "    .dataframe tbody tr th:only-of-type {\n",
              "        vertical-align: middle;\n",
              "    }\n",
              "\n",
              "    .dataframe tbody tr th {\n",
              "        vertical-align: top;\n",
              "    }\n",
              "\n",
              "    .dataframe thead th {\n",
              "        text-align: right;\n",
              "    }\n",
              "</style>\n",
              "<table border=\"1\" class=\"dataframe\">\n",
              "  <thead>\n",
              "    <tr style=\"text-align: right;\">\n",
              "      <th></th>\n",
              "      <th>REEMBOLSO</th>\n",
              "      <th>ANO</th>\n",
              "      <th>VALOR</th>\n",
              "      <th>REQUISIÇÕES</th>\n",
              "    </tr>\n",
              "    <tr>\n",
              "      <th>SUBQUOTA TRANSLATED</th>\n",
              "      <th></th>\n",
              "      <th></th>\n",
              "      <th></th>\n",
              "      <th></th>\n",
              "    </tr>\n",
              "  </thead>\n",
              "  <tbody>\n",
              "    <tr>\n",
              "      <th>Assinatura de publicações</th>\n",
              "      <td>21006778</td>\n",
              "      <td>2020</td>\n",
              "      <td>347.80</td>\n",
              "      <td>177</td>\n",
              "    </tr>\n",
              "    <tr>\n",
              "      <th>Combustíveis e lubrificantes</th>\n",
              "      <td>1638372662</td>\n",
              "      <td>2020</td>\n",
              "      <td>58480.60</td>\n",
              "      <td>234</td>\n",
              "    </tr>\n",
              "    <tr>\n",
              "      <th>Consultorias, pesquisas e trabalhos técnicos</th>\n",
              "      <td>42012185</td>\n",
              "      <td>2020</td>\n",
              "      <td>43000.00</td>\n",
              "      <td>39</td>\n",
              "    </tr>\n",
              "    <tr>\n",
              "      <th>Divulgação da atividade parlamentar</th>\n",
              "      <td>273003960</td>\n",
              "      <td>2020</td>\n",
              "      <td>247381.41</td>\n",
              "      <td>35</td>\n",
              "    </tr>\n",
              "    <tr>\n",
              "      <th>Emissão bilhete aéreo</th>\n",
              "      <td>36190986</td>\n",
              "      <td>2020</td>\n",
              "      <td>22639.77</td>\n",
              "      <td>102</td>\n",
              "    </tr>\n",
              "    <tr>\n",
              "      <th>Fornecimento de alimentação do parlamentar</th>\n",
              "      <td>294181967</td>\n",
              "      <td>2020</td>\n",
              "      <td>1749.87</td>\n",
              "      <td>42</td>\n",
              "    </tr>\n",
              "    <tr>\n",
              "      <th>Hospedagem ,exceto do parlamentar no distrito federal</th>\n",
              "      <td>231032289</td>\n",
              "      <td>2020</td>\n",
              "      <td>9192.11</td>\n",
              "      <td>18</td>\n",
              "    </tr>\n",
              "    <tr>\n",
              "      <th>Locação ou fretamento de veículos automotores</th>\n",
              "      <td>126044390</td>\n",
              "      <td>2020</td>\n",
              "      <td>66639.03</td>\n",
              "      <td>6</td>\n",
              "    </tr>\n",
              "    <tr>\n",
              "      <th>Manutenção de escritório de apoio à atividade parlamentar</th>\n",
              "      <td>714028039</td>\n",
              "      <td>2020</td>\n",
              "      <td>99672.45</td>\n",
              "      <td>4</td>\n",
              "    </tr>\n",
              "    <tr>\n",
              "      <th>Passagens aéreas</th>\n",
              "      <td>42016325</td>\n",
              "      <td>2020</td>\n",
              "      <td>5907.05</td>\n",
              "      <td>116</td>\n",
              "    </tr>\n",
              "    <tr>\n",
              "      <th>Serviço de segurança prestado por empresa especializada</th>\n",
              "      <td>27998957</td>\n",
              "      <td>2020</td>\n",
              "      <td>9489.00</td>\n",
              "      <td>33</td>\n",
              "    </tr>\n",
              "    <tr>\n",
              "      <th>Serviço de táxi, pedágio e estacionamento</th>\n",
              "      <td>812153876</td>\n",
              "      <td>2020</td>\n",
              "      <td>6053.93</td>\n",
              "      <td>21</td>\n",
              "    </tr>\n",
              "    <tr>\n",
              "      <th>Serviços postais</th>\n",
              "      <td>147030718</td>\n",
              "      <td>2020</td>\n",
              "      <td>17533.59</td>\n",
              "      <td>3</td>\n",
              "    </tr>\n",
              "    <tr>\n",
              "      <th>Telefonia</th>\n",
              "      <td>245028854</td>\n",
              "      <td>2020</td>\n",
              "      <td>17636.45</td>\n",
              "      <td>6</td>\n",
              "    </tr>\n",
              "  </tbody>\n",
              "</table>\n",
              "</div>"
            ]
          },
          "metadata": {},
          "execution_count": 144
        }
      ]
    },
    {
      "cell_type": "markdown",
      "source": [
        "Note que existem múltiplos valores de requisições que são diferentes do que o total de deputados. Ou seja, o uso entre eles é bastante distinto."
      ],
      "metadata": {
        "id": "_wQgOO-Nv_0i"
      }
    },
    {
      "cell_type": "markdown",
      "source": [
        "## Cálculos"
      ],
      "metadata": {
        "id": "z9snZfK82BD3"
      }
    },
    {
      "cell_type": "markdown",
      "source": [
        "Aqui, podemos abordar o problema da média da cota gasta de três formas:\n",
        "*  Através da média do total de cotas para *cada deputado* (`df_total`), isto é, ignorando categorias;\n",
        "*  Fazendo o cálculo por categorias (`df_cat`).\n",
        "*  Calculando a média *por deputado* (`df`) e extraindo os intervalos de confiança individualmente;\n",
        "\n",
        "Para todas essas abordagens, será utilizada a função `IntervaloDeConfiancaMedia()` abaixo para calcular os intervalos de confiança, que deriva do resultado da aplicação do T.C.L. e do teorema de Slutsky e utiliza a distribuição de Student para o cálculo dos intervalos:\n",
        "\n",
        "$$\\frac{ \\overline{X} - \\mu }{S / \\sqrt n} \\sim t_{(n-1)}$$\n",
        "\n",
        "onde $\\overline{X}$ é a média amostral, $E(X) = \\mu$, $S$ é um parâmetro de escala (variância desconhecida) e $n$ é o tamanho total da amostra. Todos os intervalos serão aproximados, dado que eles são calculados em relação à médias.\n",
        "\n",
        "A discussão sobre a validade desse cálculo está na seção **Gráficos**."
      ],
      "metadata": {
        "id": "2mhXWdNy3M__"
      }
    },
    {
      "cell_type": "code",
      "source": [
        "def IntervaloDeConfiancaMedia(data, confianca=0.95):\n",
        "    a = 1.0 * np.array(data)\n",
        "    n = len(a)\n",
        "    m, se = np.mean(a), sp.stats.sem(a)\n",
        "    #Cria o intervalo de confiança a partir da distribuição de Student, já que a \n",
        "    #variância não é conhecida.\n",
        "    h = se * sp.stats.t.ppf((1 + confianca) / 2., n-1)\n",
        "    return m, m-h, m+h"
      ],
      "metadata": {
        "id": "2-SkINgJqMz_"
      },
      "execution_count": null,
      "outputs": []
    },
    {
      "cell_type": "markdown",
      "source": [
        "### Média de cotas de todos os deputados"
      ],
      "metadata": {
        "id": "n5doxGIN76rf"
      }
    },
    {
      "cell_type": "code",
      "source": [
        "#Aqui, precisamos só de três valores: média-janela, média e média+janela\n",
        "m0, m1, m2 = IntervaloDeConfiancaMedia(df_total['VALOR'], confianca=0.95)\n",
        "\n",
        "#Resultados:\n",
        "print('Intervalo de confiança, assumindo 95% de confiança: ', m2-m1)\n",
        "print('Média: ', m0)\n",
        "print('Menor valor: ', m1)\n",
        "print('Maior valor: ', m2)"
      ],
      "metadata": {
        "colab": {
          "base_uri": "https://localhost:8080/"
        },
        "id": "wEvgaNwF8EAq",
        "outputId": "dfc64f51-57e9-471d-9a65-72dadf2c849d"
      },
      "execution_count": null,
      "outputs": [
        {
          "output_type": "stream",
          "name": "stdout",
          "text": [
            "Intervalo de confiança, assumindo 95% de confiança:  5228.125522320108\n",
            "Média:  9614.651746031746\n",
            "Menor valor:  7000.588984871692\n",
            "Maior valor:  12228.7145071918\n"
          ]
        }
      ]
    },
    {
      "cell_type": "code",
      "source": [
        "df_total['VALOR'].describe()"
      ],
      "metadata": {
        "colab": {
          "base_uri": "https://localhost:8080/"
        },
        "id": "4WKzMBUXJ9wP",
        "outputId": "54689d07-30ab-4aad-bb9c-1216263f0598"
      },
      "execution_count": null,
      "outputs": [
        {
          "output_type": "execute_result",
          "data": {
            "text/plain": [
              "count       63.000000\n",
              "mean      9614.651746\n",
              "std      10379.577580\n",
              "min         26.010000\n",
              "25%       1819.885000\n",
              "50%       6157.810000\n",
              "75%      14627.840000\n",
              "max      50469.660000\n",
              "Name: VALOR, dtype: float64"
            ]
          },
          "metadata": {},
          "execution_count": 147
        }
      ]
    },
    {
      "cell_type": "markdown",
      "source": [
        "Podemos ver que existem valores de cotas que variam significativamente da média."
      ],
      "metadata": {
        "id": "-_HzSyohKcmb"
      }
    },
    {
      "cell_type": "markdown",
      "source": [
        "### Média por categoria"
      ],
      "metadata": {
        "id": "jND0rYmp-1Y-"
      }
    },
    {
      "cell_type": "code",
      "source": [
        "#Aqui, também vamos utilizar somente três valores: média-janela, média e média+janela\n",
        "m0, m1, m2 = IntervaloDeConfiancaMedia(df_cat['VALOR'], confianca=0.95)\n",
        "\n",
        "#Resultados:\n",
        "print('Intervalo de confiança, assumindo 95% de confiança: ', m2-m1)\n",
        "print('Média: ', m0)\n",
        "print('Menor valor: ', m1)\n",
        "print('Maior valor: ', m2)"
      ],
      "metadata": {
        "colab": {
          "base_uri": "https://localhost:8080/"
        },
        "id": "E4Z6vNePAcSz",
        "outputId": "dfd8fe5a-d2f6-40ef-d9bc-6ef42b65ded8"
      },
      "execution_count": null,
      "outputs": [
        {
          "output_type": "stream",
          "name": "stdout",
          "text": [
            "Intervalo de confiança, assumindo 95% de confiança:  75800.9093288754\n",
            "Média:  43265.93285714286\n",
            "Menor valor:  5365.478192705174\n",
            "Maior valor:  81166.38752158056\n"
          ]
        }
      ]
    },
    {
      "cell_type": "code",
      "source": [
        "df_cat['VALOR'].describe()"
      ],
      "metadata": {
        "colab": {
          "base_uri": "https://localhost:8080/"
        },
        "id": "hDF52OdBKw6V",
        "outputId": "f08bced2-2a53-44b9-eebd-14a2088d8387"
      },
      "execution_count": null,
      "outputs": [
        {
          "output_type": "execute_result",
          "data": {
            "text/plain": [
              "count        14.000000\n",
              "mean      43265.932857\n",
              "std       65641.813370\n",
              "min         347.800000\n",
              "25%        6838.475000\n",
              "50%       17585.020000\n",
              "75%       54610.450000\n",
              "max      247381.410000\n",
              "Name: VALOR, dtype: float64"
            ]
          },
          "metadata": {},
          "execution_count": 149
        }
      ]
    },
    {
      "cell_type": "markdown",
      "source": [
        "Aqui também observamos uma grande variação dos valores em relação à média."
      ],
      "metadata": {
        "id": "reTf2yFGLEMk"
      }
    },
    {
      "cell_type": "markdown",
      "source": [
        "### Média por deputado"
      ],
      "metadata": {
        "id": "RzkwfpKZ-yq2"
      }
    },
    {
      "cell_type": "markdown",
      "source": [
        "Neste caso, os intervalos serão calculados por deputado."
      ],
      "metadata": {
        "id": "7EB-oHvsCXYd"
      }
    },
    {
      "cell_type": "code",
      "source": [
        "intervalo = []\n",
        "medias = []\n",
        "menor = []\n",
        "maior = []\n",
        "\n",
        "deputados = df['NOME DO PARLAMENTAR'].unique()\n",
        "\n",
        "for dep in range(0,len(deputados), 1):\n",
        "  dados = df.loc[df['NOME DO PARLAMENTAR'] == deputados[dep]]   #extrai os dados para cada deputado\n",
        "  m0, m1, m2 = IntervaloDeConfiancaMedia(dados['VALOR'], confianca=0.95)    #calcula sobre os valores de cota para cada deputado\n",
        "  intervalo.append(m2-m1)\n",
        "  medias.append(m0)\n",
        "  menor.append(m1)\n",
        "  maior.append(m2)\n",
        "\n",
        "d = {'Deputado': deputados, 'Intervalo': intervalo, 'Menor valor': menor, 'Média': medias, 'Maior valor': maior, 'N_COTAS': num_orcamentos}\n",
        "df_conf = pd.DataFrame(data=d)\n",
        "\n",
        "#possíveis erros abaixo são dados por conta de alguns deputados só terem um valor de cota."
      ],
      "metadata": {
        "colab": {
          "base_uri": "https://localhost:8080/"
        },
        "id": "tjw4jBYa9l4K",
        "outputId": "b0e746db-738e-4238-8184-c32c32f55e2f"
      },
      "execution_count": null,
      "outputs": [
        {
          "output_type": "stream",
          "name": "stderr",
          "text": [
            "/home/llober/.local/lib/python3.10/site-packages/numpy/core/_methods.py:264: RuntimeWarning: Degrees of freedom <= 0 for slice\n",
            "  ret = _var(a, axis=axis, dtype=dtype, out=out, ddof=ddof,\n",
            "/home/llober/.local/lib/python3.10/site-packages/numpy/core/_methods.py:256: RuntimeWarning: invalid value encountered in double_scalars\n",
            "  ret = ret.dtype.type(ret / rcount)\n"
          ]
        }
      ]
    },
    {
      "cell_type": "code",
      "source": [
        "df_conf"
      ],
      "metadata": {
        "colab": {
          "base_uri": "https://localhost:8080/",
          "height": 424
        },
        "id": "A3mS3E8FEQxh",
        "outputId": "c4289d32-f531-4211-de1f-4a84f4c6f571"
      },
      "execution_count": null,
      "outputs": [
        {
          "output_type": "execute_result",
          "data": {
            "text/plain": [
              "                 Deputado    Intervalo  Menor valor        Média  Maior valor  \\\n",
              "0               ABOU ANNI  3355.303229 -1183.108281   494.543333  2172.194948   \n",
              "1   ALENCAR SANTANA BRAGA  5016.686762 -1385.625047  1122.718333  3631.061714   \n",
              "2            ALEX MANENTE   535.718269   169.405865   437.265000   705.124135   \n",
              "3         ALEXANDRE FROTA  3017.773991   -87.771995  1421.115000  2930.001995   \n",
              "4         ALEXANDRE LEITE   184.534713    85.626929   177.894286   270.161642   \n",
              "..                    ...          ...          ...          ...          ...   \n",
              "58               TIRIRICA   854.576283  -129.858141   297.430000   724.718141   \n",
              "59       VANDERLEI MACRIS   854.565663    94.844815   522.127647   949.410479   \n",
              "60             VICENTINHO   741.174816  -163.737408   206.850000   577.437408   \n",
              "61      VINICIUS CARVALHO   148.147832   205.937849   280.011765   354.085681   \n",
              "62            VITOR LIPPI   332.320031   111.404985   277.565000   443.725015   \n",
              "\n",
              "    N_COTAS  \n",
              "0         3  \n",
              "1         6  \n",
              "2        12  \n",
              "3        14  \n",
              "4         7  \n",
              "..      ...  \n",
              "58        3  \n",
              "59       34  \n",
              "60        3  \n",
              "61       51  \n",
              "62       50  \n",
              "\n",
              "[63 rows x 6 columns]"
            ],
            "text/html": [
              "<div>\n",
              "<style scoped>\n",
              "    .dataframe tbody tr th:only-of-type {\n",
              "        vertical-align: middle;\n",
              "    }\n",
              "\n",
              "    .dataframe tbody tr th {\n",
              "        vertical-align: top;\n",
              "    }\n",
              "\n",
              "    .dataframe thead th {\n",
              "        text-align: right;\n",
              "    }\n",
              "</style>\n",
              "<table border=\"1\" class=\"dataframe\">\n",
              "  <thead>\n",
              "    <tr style=\"text-align: right;\">\n",
              "      <th></th>\n",
              "      <th>Deputado</th>\n",
              "      <th>Intervalo</th>\n",
              "      <th>Menor valor</th>\n",
              "      <th>Média</th>\n",
              "      <th>Maior valor</th>\n",
              "      <th>N_COTAS</th>\n",
              "    </tr>\n",
              "  </thead>\n",
              "  <tbody>\n",
              "    <tr>\n",
              "      <th>0</th>\n",
              "      <td>ABOU ANNI</td>\n",
              "      <td>3355.303229</td>\n",
              "      <td>-1183.108281</td>\n",
              "      <td>494.543333</td>\n",
              "      <td>2172.194948</td>\n",
              "      <td>3</td>\n",
              "    </tr>\n",
              "    <tr>\n",
              "      <th>1</th>\n",
              "      <td>ALENCAR SANTANA BRAGA</td>\n",
              "      <td>5016.686762</td>\n",
              "      <td>-1385.625047</td>\n",
              "      <td>1122.718333</td>\n",
              "      <td>3631.061714</td>\n",
              "      <td>6</td>\n",
              "    </tr>\n",
              "    <tr>\n",
              "      <th>2</th>\n",
              "      <td>ALEX MANENTE</td>\n",
              "      <td>535.718269</td>\n",
              "      <td>169.405865</td>\n",
              "      <td>437.265000</td>\n",
              "      <td>705.124135</td>\n",
              "      <td>12</td>\n",
              "    </tr>\n",
              "    <tr>\n",
              "      <th>3</th>\n",
              "      <td>ALEXANDRE FROTA</td>\n",
              "      <td>3017.773991</td>\n",
              "      <td>-87.771995</td>\n",
              "      <td>1421.115000</td>\n",
              "      <td>2930.001995</td>\n",
              "      <td>14</td>\n",
              "    </tr>\n",
              "    <tr>\n",
              "      <th>4</th>\n",
              "      <td>ALEXANDRE LEITE</td>\n",
              "      <td>184.534713</td>\n",
              "      <td>85.626929</td>\n",
              "      <td>177.894286</td>\n",
              "      <td>270.161642</td>\n",
              "      <td>7</td>\n",
              "    </tr>\n",
              "    <tr>\n",
              "      <th>...</th>\n",
              "      <td>...</td>\n",
              "      <td>...</td>\n",
              "      <td>...</td>\n",
              "      <td>...</td>\n",
              "      <td>...</td>\n",
              "      <td>...</td>\n",
              "    </tr>\n",
              "    <tr>\n",
              "      <th>58</th>\n",
              "      <td>TIRIRICA</td>\n",
              "      <td>854.576283</td>\n",
              "      <td>-129.858141</td>\n",
              "      <td>297.430000</td>\n",
              "      <td>724.718141</td>\n",
              "      <td>3</td>\n",
              "    </tr>\n",
              "    <tr>\n",
              "      <th>59</th>\n",
              "      <td>VANDERLEI MACRIS</td>\n",
              "      <td>854.565663</td>\n",
              "      <td>94.844815</td>\n",
              "      <td>522.127647</td>\n",
              "      <td>949.410479</td>\n",
              "      <td>34</td>\n",
              "    </tr>\n",
              "    <tr>\n",
              "      <th>60</th>\n",
              "      <td>VICENTINHO</td>\n",
              "      <td>741.174816</td>\n",
              "      <td>-163.737408</td>\n",
              "      <td>206.850000</td>\n",
              "      <td>577.437408</td>\n",
              "      <td>3</td>\n",
              "    </tr>\n",
              "    <tr>\n",
              "      <th>61</th>\n",
              "      <td>VINICIUS CARVALHO</td>\n",
              "      <td>148.147832</td>\n",
              "      <td>205.937849</td>\n",
              "      <td>280.011765</td>\n",
              "      <td>354.085681</td>\n",
              "      <td>51</td>\n",
              "    </tr>\n",
              "    <tr>\n",
              "      <th>62</th>\n",
              "      <td>VITOR LIPPI</td>\n",
              "      <td>332.320031</td>\n",
              "      <td>111.404985</td>\n",
              "      <td>277.565000</td>\n",
              "      <td>443.725015</td>\n",
              "      <td>50</td>\n",
              "    </tr>\n",
              "  </tbody>\n",
              "</table>\n",
              "<p>63 rows × 6 columns</p>\n",
              "</div>"
            ]
          },
          "metadata": {},
          "execution_count": 151
        }
      ]
    },
    {
      "cell_type": "code",
      "source": [
        "df_conf.describe()"
      ],
      "metadata": {
        "colab": {
          "base_uri": "https://localhost:8080/",
          "height": 300
        },
        "id": "LYEmUzvHLQr3",
        "outputId": "68f1cb5f-a53f-44b6-e595-7b2df153bf2b"
      },
      "execution_count": null,
      "outputs": [
        {
          "output_type": "execute_result",
          "data": {
            "text/plain": [
              "           Intervalo   Menor valor         Média   Maior valor    N_COTAS\n",
              "count      60.000000     60.000000     63.000000     60.000000  63.000000\n",
              "mean     4037.088210  -1024.001972   1003.382349   3013.086238  13.269841\n",
              "std     13361.041178   5790.005214   1569.844935   7796.956716  11.959888\n",
              "min        24.798242 -44824.818946     13.005000     53.160726   1.000000\n",
              "25%       628.954408   -230.861418    257.555000    580.185629   4.000000\n",
              "50%      1127.915298    -88.875392    519.970000   1072.471973  11.000000\n",
              "75%      2870.539453     77.543699   1209.209615   2641.891270  16.500000\n",
              "max    101649.637891    250.810548  10200.250000  56824.818946  51.000000"
            ],
            "text/html": [
              "<div>\n",
              "<style scoped>\n",
              "    .dataframe tbody tr th:only-of-type {\n",
              "        vertical-align: middle;\n",
              "    }\n",
              "\n",
              "    .dataframe tbody tr th {\n",
              "        vertical-align: top;\n",
              "    }\n",
              "\n",
              "    .dataframe thead th {\n",
              "        text-align: right;\n",
              "    }\n",
              "</style>\n",
              "<table border=\"1\" class=\"dataframe\">\n",
              "  <thead>\n",
              "    <tr style=\"text-align: right;\">\n",
              "      <th></th>\n",
              "      <th>Intervalo</th>\n",
              "      <th>Menor valor</th>\n",
              "      <th>Média</th>\n",
              "      <th>Maior valor</th>\n",
              "      <th>N_COTAS</th>\n",
              "    </tr>\n",
              "  </thead>\n",
              "  <tbody>\n",
              "    <tr>\n",
              "      <th>count</th>\n",
              "      <td>60.000000</td>\n",
              "      <td>60.000000</td>\n",
              "      <td>63.000000</td>\n",
              "      <td>60.000000</td>\n",
              "      <td>63.000000</td>\n",
              "    </tr>\n",
              "    <tr>\n",
              "      <th>mean</th>\n",
              "      <td>4037.088210</td>\n",
              "      <td>-1024.001972</td>\n",
              "      <td>1003.382349</td>\n",
              "      <td>3013.086238</td>\n",
              "      <td>13.269841</td>\n",
              "    </tr>\n",
              "    <tr>\n",
              "      <th>std</th>\n",
              "      <td>13361.041178</td>\n",
              "      <td>5790.005214</td>\n",
              "      <td>1569.844935</td>\n",
              "      <td>7796.956716</td>\n",
              "      <td>11.959888</td>\n",
              "    </tr>\n",
              "    <tr>\n",
              "      <th>min</th>\n",
              "      <td>24.798242</td>\n",
              "      <td>-44824.818946</td>\n",
              "      <td>13.005000</td>\n",
              "      <td>53.160726</td>\n",
              "      <td>1.000000</td>\n",
              "    </tr>\n",
              "    <tr>\n",
              "      <th>25%</th>\n",
              "      <td>628.954408</td>\n",
              "      <td>-230.861418</td>\n",
              "      <td>257.555000</td>\n",
              "      <td>580.185629</td>\n",
              "      <td>4.000000</td>\n",
              "    </tr>\n",
              "    <tr>\n",
              "      <th>50%</th>\n",
              "      <td>1127.915298</td>\n",
              "      <td>-88.875392</td>\n",
              "      <td>519.970000</td>\n",
              "      <td>1072.471973</td>\n",
              "      <td>11.000000</td>\n",
              "    </tr>\n",
              "    <tr>\n",
              "      <th>75%</th>\n",
              "      <td>2870.539453</td>\n",
              "      <td>77.543699</td>\n",
              "      <td>1209.209615</td>\n",
              "      <td>2641.891270</td>\n",
              "      <td>16.500000</td>\n",
              "    </tr>\n",
              "    <tr>\n",
              "      <th>max</th>\n",
              "      <td>101649.637891</td>\n",
              "      <td>250.810548</td>\n",
              "      <td>10200.250000</td>\n",
              "      <td>56824.818946</td>\n",
              "      <td>51.000000</td>\n",
              "    </tr>\n",
              "  </tbody>\n",
              "</table>\n",
              "</div>"
            ]
          },
          "metadata": {},
          "execution_count": 152
        }
      ]
    },
    {
      "cell_type": "markdown",
      "source": [
        "Podemos ver que o cálculo não é adequado aqui por conta do número total de orçamentos para cada deputado (`N_COTAS`) variar bastante, com alguns valores sendo unitários. Além disto, podemos ver que alguns dos menores e maiores valores obtidos pelo método não estão contidos nos dados originais."
      ],
      "metadata": {
        "id": "RNOig9TqGFXk"
      }
    },
    {
      "cell_type": "markdown",
      "source": [
        "## Gráficos"
      ],
      "metadata": {
        "id": "NlKt4lOFNo_z"
      }
    },
    {
      "cell_type": "markdown",
      "source": [
        "Abaixo, grafico o histograma para cada um dos dados que são utilizados nos cálculos. "
      ],
      "metadata": {
        "id": "_7zKZNfdNq9m"
      }
    },
    {
      "cell_type": "code",
      "source": [
        "fig, axs = plt.subplots(nrows=1, ncols=3, figsize=(12, 4), sharey=True)\n",
        "\n",
        "axs[0].hist(df_total['VALOR'], density=False, color = 'darkorchid')\n",
        "axs[0].set_ylabel('Contagens')\n",
        "axs[0].set_xlabel('Orçamento total por deputado')\n",
        "\n",
        "axs[1].hist(df_cat['VALOR'], density=False, color = 'lightpink')\n",
        "axs[1].set_xlabel('Orçamento total por categoria')\n",
        "\n",
        "axs[2].hist(df_conf['Média'], density=False, color = 'mediumturquoise')\n",
        "axs[2].set_xlabel('Orçamento médio por deputado')\n",
        "\n",
        "fig.tight_layout()\n",
        "fig.text(0.5, 1.025, 'Dados para os deputados', ha='center')\n",
        "plt.show()"
      ],
      "metadata": {
        "colab": {
          "base_uri": "https://localhost:8080/",
          "height": 323
        },
        "id": "75Nq2R01N_I6",
        "outputId": "c3f8f8ee-21b7-4a67-b923-11e2e56f74d2"
      },
      "execution_count": null,
      "outputs": [
        {
          "output_type": "display_data",
          "data": {
            "text/plain": [
              "<Figure size 864x288 with 3 Axes>"
            ],
            "image/png": "[encoded data removed]"
          },
          "metadata": {
            "needs_background": "light"
          }
        }
      ]
    },
    {
      "cell_type": "markdown",
      "source": [
        "Pelos gráficos acima, podemos ver que a distribuição dos três conjuntos de dados utilizados não tem a forma de uma distribuição normal ou de Student, se assemelhando mais a uma distribuição exponencial. Isto também indica que há uma distribuição desigual de cotas neste conjunto de dados, o que também foi observado nos valores de `N_COTAS` anteriormente.\n",
        "\n",
        "O cálculo através da hipótese que $\\sim t_{(n-1)}$ para as médias desses dados, portanto, não é adequado."
      ],
      "metadata": {
        "id": "gCgeFABKP8aI"
      }
    }
  ]
}