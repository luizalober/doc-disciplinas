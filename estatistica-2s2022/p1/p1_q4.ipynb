{
  "nbformat": 4,
  "nbformat_minor": 0,
  "metadata": {
    "colab": {
      "provenance": [],
      "toc_visible": true
    },
    "kernelspec": {
      "name": "python3",
      "display_name": "Python 3"
    },
    "language_info": {
      "name": "python"
    }
  },
  "cells": [
    {
      "cell_type": "markdown",
      "source": [
        "# Prova 1 - Questão 4"
      ],
      "metadata": {
        "id": "OmtC5mhCzVLA"
      }
    },
    {
      "cell_type": "markdown",
      "source": [
        "Autora: Luiza Lober de Souza Piva, nUSP: 9302292"
      ],
      "metadata": {
        "id": "BRB4uwQCzXan"
      }
    },
    {
      "cell_type": "markdown",
      "source": [
        "### Configuração"
      ],
      "metadata": {
        "id": "TmyG8KsSzbHH"
      }
    },
    {
      "cell_type": "code",
      "execution_count": null,
      "metadata": {
        "id": "OMJ9w1lwuFEQ"
      },
      "outputs": [],
      "source": [
        "#Ler e manipular dataframes e valores\n",
        "import pandas as pd\n",
        "import numpy as np\n",
        "import scipy.stats as sp\n",
        "import matplotlib.pyplot as plt\n",
        "\n",
        "#Importar os dados\n",
        "import requests as rq\n",
        "from io import BytesIO"
      ]
    },
    {
      "cell_type": "code",
      "source": [
        "#Cria o dataframe com os dados de QI\n",
        "url = 'https://raw.githubusercontent.com/luizalober/doc-disciplinas/main/estatistica-2s2022/p1/QI.csv'   #adicionei no github por erros na importacão via edisciplinas\n",
        "data = rq.get(url).content\n",
        "df = pd.read_csv(BytesIO(data), sep=',')    #esta tabela não é decodificada por utf-8"
      ],
      "metadata": {
        "id": "-nK1BrjjzIsA"
      },
      "execution_count": null,
      "outputs": []
    },
    {
      "cell_type": "code",
      "source": [
        "#Visualizando os dados:\n",
        "df"
      ],
      "metadata": {
        "colab": {
          "base_uri": "https://localhost:8080/",
          "height": 1000
        },
        "id": "SB_1zAIQ0iSc",
        "outputId": "50d8218f-977c-4319-b256-66281f5f4ccb"
      },
      "execution_count": null,
      "outputs": [
        {
          "output_type": "execute_result",
          "data": {
            "text/plain": [
              "    Id  Genero  QI_Total  QI_Verbal  QI_Performance  Peso  Altura  RM_Cont\n",
              "0    1  Female       133        132             124   118    64.5   816932\n",
              "1    2    Male       140        150             124   140    72.5  1001121\n",
              "2    3    Male       139        123             150   143    73.3  1038437\n",
              "3    4    Male       133        129             128   172    68.8   965353\n",
              "4    5  Female       137        132             134   147    65.0   951545\n",
              "5    6  Female        99         90             110   146    69.0   928799\n",
              "6    7  Female       138        136             131   138    64.5   991305\n",
              "7    8  Female        92         90              98   175    66.0   854258\n",
              "8    9    Male        89         93              84   134    66.3   904858\n",
              "9   10    Male       133        114             147   172    68.8   955466\n",
              "10  11  Female       132        129             124   118    64.5   833868\n",
              "11  12    Male       141        150             128   151    70.0  1079549\n",
              "12  13    Male       135        129             124   155    69.0   924059\n",
              "13  14  Female       140        120             147   155    70.5   856472\n",
              "14  15  Female        96        100              90   146    66.0   878897\n",
              "15  16  Female        83         71              96   135    68.0   865363\n",
              "16  17  Female       132        132             120   127    68.5   852244\n",
              "17  18    Male       100         96             102   178    73.5   945088\n",
              "18  19  Female       101        112              84   136    66.3   808020\n",
              "19  20    Male        80         77              86   180    70.0   889083\n",
              "20  21    Male        83         83              86   175    70.0   892420\n",
              "21  22    Male        97        107              84   186    76.5   905940\n",
              "22  23  Female       135        129             134   122    62.0   790619\n",
              "23  24    Male       139        145             128   132    68.0   955003\n",
              "24  25  Female        91         86             102   114    63.0   831772\n",
              "25  26    Male       141        145             131   171    72.0   935494\n",
              "26  27  Female        85         90              84   140    68.0   798612\n",
              "27  28    Male       103         96             110   187    77.0  1062462\n",
              "28  29  Female        77         83              72   106    63.0   793549\n",
              "29  30  Female       130        126             124   159    66.5   866662\n",
              "30  31  Female       133        126             132   127    62.5   857782\n",
              "31  32    Male       144        145             137   191    67.0   949589\n",
              "32  33    Male       103         96             110   192    75.5   997925\n",
              "33  34    Male        90         96              86   181    69.0   879987\n",
              "34  35  Female        83         90              81   143    66.5   834344\n",
              "35  36  Female       133        129             128   153    66.5   948066\n",
              "36  37    Male       140        150             124   144    70.5   949395\n",
              "37  38  Female        88         86              94   139    64.5   893983\n",
              "38  39    Male        81         90              74   148    74.0   930016\n",
              "39  40    Male        89         91              89   179    75.5   935863"
            ],
            "text/html": [
              "<div>\n",
              "<style scoped>\n",
              "    .dataframe tbody tr th:only-of-type {\n",
              "        vertical-align: middle;\n",
              "    }\n",
              "\n",
              "    .dataframe tbody tr th {\n",
              "        vertical-align: top;\n",
              "    }\n",
              "\n",
              "    .dataframe thead th {\n",
              "        text-align: right;\n",
              "    }\n",
              "</style>\n",
              "<table border=\"1\" class=\"dataframe\">\n",
              "  <thead>\n",
              "    <tr style=\"text-align: right;\">\n",
              "      <th></th>\n",
              "      <th>Id</th>\n",
              "      <th>Genero</th>\n",
              "      <th>QI_Total</th>\n",
              "      <th>QI_Verbal</th>\n",
              "      <th>QI_Performance</th>\n",
              "      <th>Peso</th>\n",
              "      <th>Altura</th>\n",
              "      <th>RM_Cont</th>\n",
              "    </tr>\n",
              "  </thead>\n",
              "  <tbody>\n",
              "    <tr>\n",
              "      <th>0</th>\n",
              "      <td>1</td>\n",
              "      <td>Female</td>\n",
              "      <td>133</td>\n",
              "      <td>132</td>\n",
              "      <td>124</td>\n",
              "      <td>118</td>\n",
              "      <td>64.5</td>\n",
              "      <td>816932</td>\n",
              "    </tr>\n",
              "    <tr>\n",
              "      <th>1</th>\n",
              "      <td>2</td>\n",
              "      <td>Male</td>\n",
              "      <td>140</td>\n",
              "      <td>150</td>\n",
              "      <td>124</td>\n",
              "      <td>140</td>\n",
              "      <td>72.5</td>\n",
              "      <td>1001121</td>\n",
              "    </tr>\n",
              "    <tr>\n",
              "      <th>2</th>\n",
              "      <td>3</td>\n",
              "      <td>Male</td>\n",
              "      <td>139</td>\n",
              "      <td>123</td>\n",
              "      <td>150</td>\n",
              "      <td>143</td>\n",
              "      <td>73.3</td>\n",
              "      <td>1038437</td>\n",
              "    </tr>\n",
              "    <tr>\n",
              "      <th>3</th>\n",
              "      <td>4</td>\n",
              "      <td>Male</td>\n",
              "      <td>133</td>\n",
              "      <td>129</td>\n",
              "      <td>128</td>\n",
              "      <td>172</td>\n",
              "      <td>68.8</td>\n",
              "      <td>965353</td>\n",
              "    </tr>\n",
              "    <tr>\n",
              "      <th>4</th>\n",
              "      <td>5</td>\n",
              "      <td>Female</td>\n",
              "      <td>137</td>\n",
              "      <td>132</td>\n",
              "      <td>134</td>\n",
              "      <td>147</td>\n",
              "      <td>65.0</td>\n",
              "      <td>951545</td>\n",
              "    </tr>\n",
              "    <tr>\n",
              "      <th>5</th>\n",
              "      <td>6</td>\n",
              "      <td>Female</td>\n",
              "      <td>99</td>\n",
              "      <td>90</td>\n",
              "      <td>110</td>\n",
              "      <td>146</td>\n",
              "      <td>69.0</td>\n",
              "      <td>928799</td>\n",
              "    </tr>\n",
              "    <tr>\n",
              "      <th>6</th>\n",
              "      <td>7</td>\n",
              "      <td>Female</td>\n",
              "      <td>138</td>\n",
              "      <td>136</td>\n",
              "      <td>131</td>\n",
              "      <td>138</td>\n",
              "      <td>64.5</td>\n",
              "      <td>991305</td>\n",
              "    </tr>\n",
              "    <tr>\n",
              "      <th>7</th>\n",
              "      <td>8</td>\n",
              "      <td>Female</td>\n",
              "      <td>92</td>\n",
              "      <td>90</td>\n",
              "      <td>98</td>\n",
              "      <td>175</td>\n",
              "      <td>66.0</td>\n",
              "      <td>854258</td>\n",
              "    </tr>\n",
              "    <tr>\n",
              "      <th>8</th>\n",
              "      <td>9</td>\n",
              "      <td>Male</td>\n",
              "      <td>89</td>\n",
              "      <td>93</td>\n",
              "      <td>84</td>\n",
              "      <td>134</td>\n",
              "      <td>66.3</td>\n",
              "      <td>904858</td>\n",
              "    </tr>\n",
              "    <tr>\n",
              "      <th>9</th>\n",
              "      <td>10</td>\n",
              "      <td>Male</td>\n",
              "      <td>133</td>\n",
              "      <td>114</td>\n",
              "      <td>147</td>\n",
              "      <td>172</td>\n",
              "      <td>68.8</td>\n",
              "      <td>955466</td>\n",
              "    </tr>\n",
              "    <tr>\n",
              "      <th>10</th>\n",
              "      <td>11</td>\n",
              "      <td>Female</td>\n",
              "      <td>132</td>\n",
              "      <td>129</td>\n",
              "      <td>124</td>\n",
              "      <td>118</td>\n",
              "      <td>64.5</td>\n",
              "      <td>833868</td>\n",
              "    </tr>\n",
              "    <tr>\n",
              "      <th>11</th>\n",
              "      <td>12</td>\n",
              "      <td>Male</td>\n",
              "      <td>141</td>\n",
              "      <td>150</td>\n",
              "      <td>128</td>\n",
              "      <td>151</td>\n",
              "      <td>70.0</td>\n",
              "      <td>1079549</td>\n",
              "    </tr>\n",
              "    <tr>\n",
              "      <th>12</th>\n",
              "      <td>13</td>\n",
              "      <td>Male</td>\n",
              "      <td>135</td>\n",
              "      <td>129</td>\n",
              "      <td>124</td>\n",
              "      <td>155</td>\n",
              "      <td>69.0</td>\n",
              "      <td>924059</td>\n",
              "    </tr>\n",
              "    <tr>\n",
              "      <th>13</th>\n",
              "      <td>14</td>\n",
              "      <td>Female</td>\n",
              "      <td>140</td>\n",
              "      <td>120</td>\n",
              "      <td>147</td>\n",
              "      <td>155</td>\n",
              "      <td>70.5</td>\n",
              "      <td>856472</td>\n",
              "    </tr>\n",
              "    <tr>\n",
              "      <th>14</th>\n",
              "      <td>15</td>\n",
              "      <td>Female</td>\n",
              "      <td>96</td>\n",
              "      <td>100</td>\n",
              "      <td>90</td>\n",
              "      <td>146</td>\n",
              "      <td>66.0</td>\n",
              "      <td>878897</td>\n",
              "    </tr>\n",
              "    <tr>\n",
              "      <th>15</th>\n",
              "      <td>16</td>\n",
              "      <td>Female</td>\n",
              "      <td>83</td>\n",
              "      <td>71</td>\n",
              "      <td>96</td>\n",
              "      <td>135</td>\n",
              "      <td>68.0</td>\n",
              "      <td>865363</td>\n",
              "    </tr>\n",
              "    <tr>\n",
              "      <th>16</th>\n",
              "      <td>17</td>\n",
              "      <td>Female</td>\n",
              "      <td>132</td>\n",
              "      <td>132</td>\n",
              "      <td>120</td>\n",
              "      <td>127</td>\n",
              "      <td>68.5</td>\n",
              "      <td>852244</td>\n",
              "    </tr>\n",
              "    <tr>\n",
              "      <th>17</th>\n",
              "      <td>18</td>\n",
              "      <td>Male</td>\n",
              "      <td>100</td>\n",
              "      <td>96</td>\n",
              "      <td>102</td>\n",
              "      <td>178</td>\n",
              "      <td>73.5</td>\n",
              "      <td>945088</td>\n",
              "    </tr>\n",
              "    <tr>\n",
              "      <th>18</th>\n",
              "      <td>19</td>\n",
              "      <td>Female</td>\n",
              "      <td>101</td>\n",
              "      <td>112</td>\n",
              "      <td>84</td>\n",
              "      <td>136</td>\n",
              "      <td>66.3</td>\n",
              "      <td>808020</td>\n",
              "    </tr>\n",
              "    <tr>\n",
              "      <th>19</th>\n",
              "      <td>20</td>\n",
              "      <td>Male</td>\n",
              "      <td>80</td>\n",
              "      <td>77</td>\n",
              "      <td>86</td>\n",
              "      <td>180</td>\n",
              "      <td>70.0</td>\n",
              "      <td>889083</td>\n",
              "    </tr>\n",
              "    <tr>\n",
              "      <th>20</th>\n",
              "      <td>21</td>\n",
              "      <td>Male</td>\n",
              "      <td>83</td>\n",
              "      <td>83</td>\n",
              "      <td>86</td>\n",
              "      <td>175</td>\n",
              "      <td>70.0</td>\n",
              "      <td>892420</td>\n",
              "    </tr>\n",
              "    <tr>\n",
              "      <th>21</th>\n",
              "      <td>22</td>\n",
              "      <td>Male</td>\n",
              "      <td>97</td>\n",
              "      <td>107</td>\n",
              "      <td>84</td>\n",
              "      <td>186</td>\n",
              "      <td>76.5</td>\n",
              "      <td>905940</td>\n",
              "    </tr>\n",
              "    <tr>\n",
              "      <th>22</th>\n",
              "      <td>23</td>\n",
              "      <td>Female</td>\n",
              "      <td>135</td>\n",
              "      <td>129</td>\n",
              "      <td>134</td>\n",
              "      <td>122</td>\n",
              "      <td>62.0</td>\n",
              "      <td>790619</td>\n",
              "    </tr>\n",
              "    <tr>\n",
              "      <th>23</th>\n",
              "      <td>24</td>\n",
              "      <td>Male</td>\n",
              "      <td>139</td>\n",
              "      <td>145</td>\n",
              "      <td>128</td>\n",
              "      <td>132</td>\n",
              "      <td>68.0</td>\n",
              "      <td>955003</td>\n",
              "    </tr>\n",
              "    <tr>\n",
              "      <th>24</th>\n",
              "      <td>25</td>\n",
              "      <td>Female</td>\n",
              "      <td>91</td>\n",
              "      <td>86</td>\n",
              "      <td>102</td>\n",
              "      <td>114</td>\n",
              "      <td>63.0</td>\n",
              "      <td>831772</td>\n",
              "    </tr>\n",
              "    <tr>\n",
              "      <th>25</th>\n",
              "      <td>26</td>\n",
              "      <td>Male</td>\n",
              "      <td>141</td>\n",
              "      <td>145</td>\n",
              "      <td>131</td>\n",
              "      <td>171</td>\n",
              "      <td>72.0</td>\n",
              "      <td>935494</td>\n",
              "    </tr>\n",
              "    <tr>\n",
              "      <th>26</th>\n",
              "      <td>27</td>\n",
              "      <td>Female</td>\n",
              "      <td>85</td>\n",
              "      <td>90</td>\n",
              "      <td>84</td>\n",
              "      <td>140</td>\n",
              "      <td>68.0</td>\n",
              "      <td>798612</td>\n",
              "    </tr>\n",
              "    <tr>\n",
              "      <th>27</th>\n",
              "      <td>28</td>\n",
              "      <td>Male</td>\n",
              "      <td>103</td>\n",
              "      <td>96</td>\n",
              "      <td>110</td>\n",
              "      <td>187</td>\n",
              "      <td>77.0</td>\n",
              "      <td>1062462</td>\n",
              "    </tr>\n",
              "    <tr>\n",
              "      <th>28</th>\n",
              "      <td>29</td>\n",
              "      <td>Female</td>\n",
              "      <td>77</td>\n",
              "      <td>83</td>\n",
              "      <td>72</td>\n",
              "      <td>106</td>\n",
              "      <td>63.0</td>\n",
              "      <td>793549</td>\n",
              "    </tr>\n",
              "    <tr>\n",
              "      <th>29</th>\n",
              "      <td>30</td>\n",
              "      <td>Female</td>\n",
              "      <td>130</td>\n",
              "      <td>126</td>\n",
              "      <td>124</td>\n",
              "      <td>159</td>\n",
              "      <td>66.5</td>\n",
              "      <td>866662</td>\n",
              "    </tr>\n",
              "    <tr>\n",
              "      <th>30</th>\n",
              "      <td>31</td>\n",
              "      <td>Female</td>\n",
              "      <td>133</td>\n",
              "      <td>126</td>\n",
              "      <td>132</td>\n",
              "      <td>127</td>\n",
              "      <td>62.5</td>\n",
              "      <td>857782</td>\n",
              "    </tr>\n",
              "    <tr>\n",
              "      <th>31</th>\n",
              "      <td>32</td>\n",
              "      <td>Male</td>\n",
              "      <td>144</td>\n",
              "      <td>145</td>\n",
              "      <td>137</td>\n",
              "      <td>191</td>\n",
              "      <td>67.0</td>\n",
              "      <td>949589</td>\n",
              "    </tr>\n",
              "    <tr>\n",
              "      <th>32</th>\n",
              "      <td>33</td>\n",
              "      <td>Male</td>\n",
              "      <td>103</td>\n",
              "      <td>96</td>\n",
              "      <td>110</td>\n",
              "      <td>192</td>\n",
              "      <td>75.5</td>\n",
              "      <td>997925</td>\n",
              "    </tr>\n",
              "    <tr>\n",
              "      <th>33</th>\n",
              "      <td>34</td>\n",
              "      <td>Male</td>\n",
              "      <td>90</td>\n",
              "      <td>96</td>\n",
              "      <td>86</td>\n",
              "      <td>181</td>\n",
              "      <td>69.0</td>\n",
              "      <td>879987</td>\n",
              "    </tr>\n",
              "    <tr>\n",
              "      <th>34</th>\n",
              "      <td>35</td>\n",
              "      <td>Female</td>\n",
              "      <td>83</td>\n",
              "      <td>90</td>\n",
              "      <td>81</td>\n",
              "      <td>143</td>\n",
              "      <td>66.5</td>\n",
              "      <td>834344</td>\n",
              "    </tr>\n",
              "    <tr>\n",
              "      <th>35</th>\n",
              "      <td>36</td>\n",
              "      <td>Female</td>\n",
              "      <td>133</td>\n",
              "      <td>129</td>\n",
              "      <td>128</td>\n",
              "      <td>153</td>\n",
              "      <td>66.5</td>\n",
              "      <td>948066</td>\n",
              "    </tr>\n",
              "    <tr>\n",
              "      <th>36</th>\n",
              "      <td>37</td>\n",
              "      <td>Male</td>\n",
              "      <td>140</td>\n",
              "      <td>150</td>\n",
              "      <td>124</td>\n",
              "      <td>144</td>\n",
              "      <td>70.5</td>\n",
              "      <td>949395</td>\n",
              "    </tr>\n",
              "    <tr>\n",
              "      <th>37</th>\n",
              "      <td>38</td>\n",
              "      <td>Female</td>\n",
              "      <td>88</td>\n",
              "      <td>86</td>\n",
              "      <td>94</td>\n",
              "      <td>139</td>\n",
              "      <td>64.5</td>\n",
              "      <td>893983</td>\n",
              "    </tr>\n",
              "    <tr>\n",
              "      <th>38</th>\n",
              "      <td>39</td>\n",
              "      <td>Male</td>\n",
              "      <td>81</td>\n",
              "      <td>90</td>\n",
              "      <td>74</td>\n",
              "      <td>148</td>\n",
              "      <td>74.0</td>\n",
              "      <td>930016</td>\n",
              "    </tr>\n",
              "    <tr>\n",
              "      <th>39</th>\n",
              "      <td>40</td>\n",
              "      <td>Male</td>\n",
              "      <td>89</td>\n",
              "      <td>91</td>\n",
              "      <td>89</td>\n",
              "      <td>179</td>\n",
              "      <td>75.5</td>\n",
              "      <td>935863</td>\n",
              "    </tr>\n",
              "  </tbody>\n",
              "</table>\n",
              "</div>"
            ]
          },
          "metadata": {},
          "execution_count": 3
        }
      ]
    },
    {
      "cell_type": "markdown",
      "source": [
        "## Teste t de Student pareado"
      ],
      "metadata": {
        "id": "lymHhnoXeR1b"
      }
    },
    {
      "cell_type": "markdown",
      "source": [
        "### Hipóteses"
      ],
      "metadata": {
        "id": "Usg2sE7hF36Q"
      }
    },
    {
      "cell_type": "markdown",
      "source": [
        "*  Homocedasticidade (variâncias iguais, porém desconhecidas);\n",
        "*  A distribuição satisfaz o T.C.L. para um tamanho amostral suficientemente grande;\n",
        "*  Observações independentes;"
      ],
      "metadata": {
        "id": "S8k0svhoF71P"
      }
    },
    {
      "cell_type": "markdown",
      "source": [
        "Vamos checar a primeira hipótese:"
      ],
      "metadata": {
        "id": "kIJtZJ9WGv-S"
      }
    },
    {
      "cell_type": "code",
      "source": [
        "fig, axs = plt.subplots(nrows=1, ncols=2, figsize=(10, 4), sharex=True)\n",
        "\n",
        "_ = stats.probplot(\n",
        "    df['QI_Verbal'],       # Dados\n",
        "    plot=axs[0]            # Grafica no primeiro eixo\n",
        ")\n",
        "\n",
        "_ = stats.probplot(\n",
        "    df['QI_Performance'],       # Dados\n",
        "    plot=axs[1]            # Grafica no primeiro eixo\n",
        ")"
      ],
      "metadata": {
        "colab": {
          "base_uri": "https://localhost:8080/",
          "height": 295
        },
        "id": "DdlinFzuHaGD",
        "outputId": "b7850115-6e13-4163-893d-ec69d8cb9357"
      },
      "execution_count": null,
      "outputs": [
        {
          "output_type": "display_data",
          "data": {
            "text/plain": [
              "<Figure size 720x288 with 2 Axes>"
            ],
            "image/png": "[encoded data removed]"
          },
          "metadata": {
            "needs_background": "light"
          }
        }
      ]
    },
    {
      "cell_type": "markdown",
      "source": [
        "A distribuição aparenta ser normal. Vamos testar também com o teste de Bartlett (definido na seção **Teste de homocedasticidade**):"
      ],
      "metadata": {
        "id": "4XcPvUwETajl"
      }
    },
    {
      "cell_type": "code",
      "source": [
        "bart_verif = sp.bartlett(df['QI_Verbal'], df['QI_Performance'])\n",
        "\n",
        "#Escreve os resultados\n",
        "#-> Teste de Bartlett\n",
        "print('---Teste de Bartlett---')\n",
        "print('Resultado do teste: ', bart_verif[0])\n",
        "print('p-valor: ', bart_verif[1])"
      ],
      "metadata": {
        "colab": {
          "base_uri": "https://localhost:8080/"
        },
        "id": "UZ-vIiZrGzdz",
        "outputId": "0618b3d3-307e-40c0-9aa2-8ade7b3f402d"
      },
      "execution_count": null,
      "outputs": [
        {
          "output_type": "stream",
          "name": "stdout",
          "text": [
            "---Teste de Bartlett---\n",
            "Resultado do teste:  0.09507947615032042\n",
            "p-valor:  0.7578163276423272\n"
          ]
        }
      ]
    },
    {
      "cell_type": "markdown",
      "source": [
        "Logo, podemos assumir homocedasticidade."
      ],
      "metadata": {
        "id": "cp3giq-5Jdo4"
      }
    },
    {
      "cell_type": "markdown",
      "source": [
        "### Cálculo"
      ],
      "metadata": {
        "id": "LasyyO1NF6yH"
      }
    },
    {
      "cell_type": "markdown",
      "source": [
        "**Estatística do teste:**\n",
        "\n",
        "$$ \\frac{  \\bar{X_{1}} - \\bar{ X_{2}}  }{ \\sqrt{ S_p^2 (1/n_1 + 1/n_2) } }, $$\n",
        "\n",
        "onde $S_p^2 = \\frac{ (n_1 -1)S_1^2 + (n_2 -1)S_2^2 }{ n_1 + n_2 -1 }$."
      ],
      "metadata": {
        "id": "GE5m_yHSJ3Qo"
      }
    },
    {
      "cell_type": "markdown",
      "source": [
        "Escolhi fazer a comparação entre QI verbal e de performance através do teste t de Student pareado dado que:\n",
        "\n",
        "*  Amostras pareadas geralmente consistem de pares de unidades similares, o que é verdade para essas duas variáveis.\n",
        "  * Múltiplos resultados de QI para os indivíduos também seriam estudados adequadamente por esse teste.\n",
        "*  Amostras pareadas mostram dependência, o que é uma interpretação razoável quando pensamos que haverá relação entre essas duas variáveis\n",
        "  * Isto também poderia ser suposto sobre QIs verbais e o teste de RM, mas estas duas variáveis não tem unidades similares;\n",
        "  * Suponho que a performance medida deverá ter influência do quão bem a pessoa consiga se expressar durante os testes.\n",
        "\n"
      ],
      "metadata": {
        "id": "x2nGGm_NClDp"
      }
    },
    {
      "cell_type": "markdown",
      "source": [
        "Para isto, vamos utilizar o módulo `ttest_rel()` da biblioteca do `scipy.stats` para aplicar este cálculo.\n",
        "\n",
        "* Existem dois testes t de Student no Scipy: `ttest_rel()` e `ttest_ind()`. A escolha por este primeiro se deu justamente pelo caráter pareado das variáveis."
      ],
      "metadata": {
        "id": "KTmRHEsTe_Kl"
      }
    },
    {
      "cell_type": "code",
      "source": [
        "res_student = sp.ttest_rel(df['QI_Verbal'], df['QI_Performance'])\n",
        "\n",
        "print('Resultado do teste t pareado: ', res_student[0])\n",
        "print('p-valor: ', res_student[1])"
      ],
      "metadata": {
        "colab": {
          "base_uri": "https://localhost:8080/"
        },
        "id": "b0ZSIqGCekXh",
        "outputId": "aa335547-7c29-458a-9a04-bbc8b43dfd6d"
      },
      "execution_count": null,
      "outputs": [
        {
          "output_type": "stream",
          "name": "stdout",
          "text": [
            "Resultado do teste t pareado:  0.5445841763599564\n",
            "p-valor:  0.5891401178507841\n"
          ]
        }
      ]
    },
    {
      "cell_type": "markdown",
      "source": [
        "Logo, não há uma diferença grande entre as duas medidas p-valor$>α = 0.05$."
      ],
      "metadata": {
        "id": "fOA3BmtkPdGv"
      }
    },
    {
      "cell_type": "markdown",
      "source": [
        "## Correlação de Pearson"
      ],
      "metadata": {
        "id": "8O8libKEecrB"
      }
    },
    {
      "cell_type": "markdown",
      "source": [
        "Como dito acima, o QI verbal e o resultado de RM estão em unidades distintas. Portanto, se queremos verificar se há relação entre essas variáveis, o método mais adequado dentre os três é o cálculo da correlação de Pearson entre elas."
      ],
      "metadata": {
        "id": "TCWmv79sEAD4"
      }
    },
    {
      "cell_type": "markdown",
      "source": [
        "Este teste mede a correlação linear entre duas variáveis, com $0\\leq p \\leq 1$:\n",
        "*  $p=\\pm 1$ mostra correlação completa: crescente se positiva, decrescente se negativa;\n",
        "*  $p=0$ indica que não há correlação entre as variáveis. "
      ],
      "metadata": {
        "id": "29teJjkhQbeJ"
      }
    },
    {
      "cell_type": "code",
      "source": [
        "pearson_sp = sp.pearsonr(df['QI_Verbal'], df['RM_Cont'])\n",
        "\n",
        "print('Correlação de pearson entre QI verbal e dados de RM: ', pearson_sp[0])\n",
        "print('p-valor: ', pearson_sp[1])"
      ],
      "metadata": {
        "id": "Zb-2wTSk_F_F",
        "colab": {
          "base_uri": "https://localhost:8080/"
        },
        "outputId": "8900ac1c-36a8-4e36-932a-8b685c80f1cc"
      },
      "execution_count": null,
      "outputs": [
        {
          "output_type": "stream",
          "name": "stdout",
          "text": [
            "Correlação de pearson entre QI verbal e dados de RM:  0.33747772802033543\n",
            "p-valor:  0.033201762692926864\n"
          ]
        }
      ]
    },
    {
      "cell_type": "markdown",
      "source": [
        "O resultado acima indica que não há uma correlação entre o QI verbal e os resultados de ressonância magnética, ao menos assumindo $α = 0.05 >$ p-valor.\n",
        "\n",
        "Mesmo que um $α$ menor seja adotado, o valor de correlação das variáveis ainda é fraco."
      ],
      "metadata": {
        "id": "yYK4oBkhRQIe"
      }
    },
    {
      "cell_type": "markdown",
      "source": [
        "## Teste de homocedasticidade"
      ],
      "metadata": {
        "id": "3_GUyaaree2W"
      }
    },
    {
      "cell_type": "markdown",
      "source": [
        "Homocedasticidade entre variáveis ocorre quando as variâncias das mesmas são iguais. Utilizarei aqui dois testes para essas comparações: o teste de Bartlett e o de Levene [[1]](https://www.itl.nist.gov/div898/handbook/eda/section3/eda357.htm).\n",
        "\n",
        "*  Bartlett: é mais sensível à variações dos dados em relação à distribuição normal, o que também pode gerar uma interpretação de desvios da normalidade para os dados, caso eles não apresentem este perfil.\n",
        "*  Levene: mais robusto à desvios da normalidade, isto é, as respostas do teste não indicarão variâncias diferentes somente pela distribuição dos dados não ser normal. Será calculado através da mediana dos dois conjuntos de dados."
      ],
      "metadata": {
        "id": "n4pt4uYTRyOe"
      }
    },
    {
      "cell_type": "markdown",
      "source": [
        "Vamos começar por uma verificação visual dos resultados, antes de aplicar os testes. A função `CalculaGaussiana()` abaixo fará um ajuste de distribuição normal em $4\\sigma$ para cada um dos dados graficados."
      ],
      "metadata": {
        "id": "Q9ODseV6U_Hb"
      }
    },
    {
      "cell_type": "code",
      "source": [
        "def CalculaGaussianas(coluna):\n",
        "  '''\n",
        "  Calculo da gaussiana associada ao histograma em questão.\n",
        "  Para ser utilizada com a função seguinte.\n",
        "  '''\n",
        "  mean = coluna.mean()\n",
        "  std = coluna.std()\n",
        "  x_pdf = np.linspace(mean-4*std, mean+4*std, 200)    #considera 4 desv. pad. da média e 200 pontos\n",
        "  y_pdf = sp.norm.pdf(x_pdf, mean, std)\n",
        "\n",
        "  return x_pdf, y_pdf"
      ],
      "metadata": {
        "id": "Gt39sXRemhjI"
      },
      "execution_count": null,
      "outputs": []
    },
    {
      "cell_type": "code",
      "source": [
        "#Primeiro, separa os grupos\n",
        "df_fem = df.loc[df['Genero'] == 'Female']\n",
        "df_masc = df.loc[df['Genero'] == 'Male']"
      ],
      "metadata": {
        "id": "oOPb9I4dla-n"
      },
      "execution_count": null,
      "outputs": []
    },
    {
      "cell_type": "code",
      "source": [
        "#Faz os gráficos\n",
        "fig, axs = plt.subplots(nrows=1, ncols=2, figsize=(8, 4), sharey=True, sharex=True)\n",
        "\n",
        "axs[0].hist(df_fem['Peso'], density=True, color = 'rebeccapurple')\n",
        "x_pdf, y_pdf = CalculaGaussianas(df_fem['Peso'])\n",
        "axs[0].plot(x_pdf, y_pdf, 'r', lw=2)\n",
        "axs[0].set_ylabel('Contagens')\n",
        "axs[0].set_xlabel('Peso medido, mulheres')\n",
        "\n",
        "axs[1].hist(df_masc['Peso'], density=True, color = 'mediumpurple')\n",
        "x_pdf, y_pdf = CalculaGaussianas(df_masc['Peso'])\n",
        "axs[1].plot(x_pdf, y_pdf, 'r', lw=2)\n",
        "axs[1].set_xlabel('Peso medido, homens')\n",
        "\n",
        "fig.tight_layout()\n",
        "fig.text(0.5, 1.025, 'Dados de peso', ha='center')\n",
        "plt.show()"
      ],
      "metadata": {
        "colab": {
          "base_uri": "https://localhost:8080/",
          "height": 323
        },
        "id": "lViYUIoClHbd",
        "outputId": "f8837ad6-6fe0-412d-9304-41eb74092349"
      },
      "execution_count": null,
      "outputs": [
        {
          "output_type": "display_data",
          "data": {
            "text/plain": [
              "<Figure size 576x288 with 2 Axes>"
            ],
            "image/png": "[encoded data removed]"
          },
          "metadata": {
            "needs_background": "light"
          }
        }
      ]
    },
    {
      "cell_type": "markdown",
      "source": [
        "Note que a distribuição de peso das mulheres está visualmente mais próxima de uma distribuição normal. Podemos também testar isto quantitativamente, como feito no teste de hipóteses do **Teste t de Student pareado**:"
      ],
      "metadata": {
        "id": "CdSEeo2RqEHW"
      }
    },
    {
      "cell_type": "code",
      "source": [
        "fig, axs = plt.subplots(nrows=1, ncols=2, figsize=(10, 4), sharex=True)\n",
        "\n",
        "_ = stats.probplot(\n",
        "    df_fem['Peso'],       # Dados das mulheres\n",
        "    plot=axs[0]            # Grafica no primeiro eixo\n",
        ")\n",
        "\n",
        "_ = stats.probplot(\n",
        "    df_masc['Peso'],       # Dados dos homens\n",
        "    plot=axs[1]            # Grafica no primeiro eixo\n",
        ")"
      ],
      "metadata": {
        "colab": {
          "base_uri": "https://localhost:8080/",
          "height": 295
        },
        "id": "GG5P09SJT92n",
        "outputId": "a05c4d12-fa86-415e-c04b-fe5400836624"
      },
      "execution_count": null,
      "outputs": [
        {
          "output_type": "display_data",
          "data": {
            "text/plain": [
              "<Figure size 720x288 with 2 Axes>"
            ],
            "image/png": "[encoded data removed]"
          },
          "metadata": {
            "needs_background": "light"
          }
        }
      ]
    },
    {
      "cell_type": "markdown",
      "source": [
        "Onde verificamos que de fato a distribuição de pesos das mulheres é mais próxima da normal."
      ],
      "metadata": {
        "id": "67kWqL16UF-D"
      }
    },
    {
      "cell_type": "markdown",
      "source": [
        "Por fim, vamos aplicar os testes de Bartlett e de Levene para testar a homocedasticidade. \n",
        "*  Por conta das definições acima e do desvio da normalidade para o peso dos homens, o teste de Levene é mais adequado para interpretações."
      ],
      "metadata": {
        "id": "TbwsaHRlj_OI"
      }
    },
    {
      "cell_type": "code",
      "source": [
        "bart = sp.bartlett(df_fem['Peso'], df_masc['Peso'])\n",
        "leve = sp.levene(df_fem['Peso'], df_masc['Peso'])\n",
        "\n",
        "#Escreve os resultados\n",
        "#-> Teste de Bartlett\n",
        "print('---Teste de Bartlett---')\n",
        "print('Resultado do teste: ', bart[0])\n",
        "print('p-valor: ', bart[1])\n",
        "\n",
        "#-> Teste de Levene\n",
        "print('---Teste de Levene---')\n",
        "print('Resultado do teste: ', leve[0])\n",
        "print('p-valor: ', leve[1])"
      ],
      "metadata": {
        "colab": {
          "base_uri": "https://localhost:8080/"
        },
        "id": "ctBJ4M8heZqd",
        "outputId": "ab420ef1-e4d1-4514-d6d8-368a71faa72c"
      },
      "execution_count": null,
      "outputs": [
        {
          "output_type": "stream",
          "name": "stdout",
          "text": [
            "---Teste de Bartlett---\n",
            "Resultado do teste:  0.49879290479927724\n",
            "p-valor:  0.4800309900227211\n",
            "---Teste de Levene---\n",
            "Resultado do teste:  0.9035509164460875\n",
            "p-valor:  0.3478382980990077\n"
          ]
        }
      ]
    },
    {
      "cell_type": "markdown",
      "source": [
        "Logo, assumindo $\\alpha = 0.05$, decido pelas variâncias serem iguais (p-valor $> \\alpha$)."
      ],
      "metadata": {
        "id": "Phv_Uk-9UdX_"
      }
    }
  ]
}